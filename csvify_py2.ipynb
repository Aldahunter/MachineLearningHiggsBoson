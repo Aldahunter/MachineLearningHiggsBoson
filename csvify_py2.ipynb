{
 "cells": [
  {
   "cell_type": "code",
   "execution_count": 1,
   "metadata": {},
   "outputs": [],
   "source": [
    "import csv\n",
    "import os\n",
    "import pylhe"
   ]
  },
  {
   "cell_type": "code",
   "execution_count": 2,
   "metadata": {},
   "outputs": [],
   "source": [
    "FILEs = [file_[:-4]                       # file name, excluding '.lhe'\n",
    "         for file_ in os.listdir(\"Data\")  # from files in 'Data/' folder\n",
    "         if file_.endswith(\".lhe\")]       # if the file is an 'lhe' file"
   ]
  },
  {
   "cell_type": "code",
   "execution_count": 3,
   "metadata": {
    "scrolled": true
   },
   "outputs": [
    {
     "name": "stdout",
     "output_type": "stream",
     "text": [
      "Successfully ported 'pp_2mu2e_bkg' (1 out of 4)\n",
      "Successfully ported 'pp_2mu2nu_bkg' (2 out of 4)\n",
      "Successfully ported 'pp_h_2mu2e_heft' (3 out of 4)\n",
      "Successfully ported 'pp_h_2munu_heft' (4 out of 4)\n"
     ]
    }
   ],
   "source": [
    "for n, FILE in enumerate(FILEs):\n",
    "    with open(os.path.join(os.getcwd(), \"Data\", FILE + \".csv\"), \"wb\") as csvFILE:\n",
    "        # Open a csv file (with the same name as an lhe file) to write to\n",
    "\n",
    "        # Create object to write dictionaries to csv\n",
    "        writer = csv.DictWriter(csvFILE, [\"particles\", \"eventinfo\"])\n",
    "\n",
    "        # Write dict keys as table headers\n",
    "        writer.writeheader()\n",
    "\n",
    "        lheFILE = os.path.join(os.getcwd(), 'Data', FILE + \".lhe\")  # Obtain lhe file path\n",
    "        writer.writerows([event                                     # Write each event\n",
    "                          for event in pylhe.readLHE(lheFILE)])     # in the lhe file\n",
    "    \n",
    "    print(\"Successfully ported '{0}' ({1} out of {2})\".format(FILE, n + 1, len(FILEs)))"
   ]
  }
 ],
 "metadata": {
  "kernelspec": {
   "display_name": "Python 2",
   "language": "python",
   "name": "python2"
  },
  "language_info": {
   "codemirror_mode": {
    "name": "ipython",
    "version": 2
   },
   "file_extension": ".py",
   "mimetype": "text/x-python",
   "name": "python",
   "nbconvert_exporter": "python",
   "pygments_lexer": "ipython2",
   "version": "2.7.14"
  }
 },
 "nbformat": 4,
 "nbformat_minor": 2
}
