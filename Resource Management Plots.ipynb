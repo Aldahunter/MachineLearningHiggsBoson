{
 "cells": [
  {
   "cell_type": "code",
   "execution_count": 1,
   "metadata": {},
   "outputs": [],
   "source": [
    "%gui qt\n",
    "import numpy as np\n",
    "from matplotlib import cm\n",
    "import pandas as pd\n",
    "from analysis.plotting.plot3D import plot3D\n",
    "\n",
    "import analysis.plotting.plot3D\n",
    "from importlib import reload"
   ]
  },
  {
   "cell_type": "markdown",
   "metadata": {},
   "source": [
    "Set-up variables for notebook."
   ]
  },
  {
   "cell_type": "code",
   "execution_count": 214,
   "metadata": {},
   "outputs": [],
   "source": [
    "gridSearch_fitTimes = False # Gridsearch or load previous search\n",
    "ndif_trees, ndif_events = 9, 9 # Number of trees/event points\n",
    "                               # for grid search\n",
    "minimise = False # Minimise or use hard-coded value"
   ]
  },
  {
   "cell_type": "markdown",
   "metadata": {},
   "source": [
    "Get Forest Fit Times Data"
   ]
  },
  {
   "cell_type": "code",
   "execution_count": 213,
   "metadata": {},
   "outputs": [
    {
     "name": "stdout",
     "output_type": "stream",
     "text": [
      "Successfully Unpickled Grid Search.\n"
     ]
    }
   ],
   "source": [
    "if not gridSearch_fitTimes:\n",
    "    times = pd.read_pickle(\"forest_fit_times.pkl\", compression='infer')\n",
    "    print(\"Successfully Unpickled Grid Search.\")\n",
    "else:\n",
    "    featuress = [['Z_e_m', 'Z_mu_m'],\n",
    "                 ['m_H', 'Z_e_m',\n",
    "                  'Z_mu_m', 'delR_Z'],\n",
    "                 ['Z_e_m', 'Z_mu_m', 'delR_e',\n",
    "                  'delR_mu', 'delR_Z', 'm_H']]\n",
    "\n",
    "    numberOfRows = (ndif_trees+1) * (ndif_events+1) * len(featuress)\n",
    "    print(numberOfRows)\n",
    "    times = pd.DataFrame(index=np.arange(0, numberOfRows),\n",
    "                         columns=('trees', 'events', 'features',\n",
    "                                  'fit_time') )\n",
    "\n",
    "    n, total_events = 0, len(train_df)\n",
    "    for trees in np.linspace(1, 500, ndif_trees+1):\n",
    "        trees = int(trees)\n",
    "\n",
    "        for events in np.linspace(2, total_events, ndif_events+1):\n",
    "            frac_events = events / total_events\n",
    "\n",
    "            for features in featuress:\n",
    "                n_features = len(features)\n",
    "\n",
    "                temp = ODataFrame(df[features+['signal']])\n",
    "                if frac_events < 1:\n",
    "                    temp = temp.train_test_sets(frac_events)[0]\n",
    "\n",
    "                forest = RandomForest(n_trees=trees)\n",
    "                s = time()\n",
    "                forest.fit(*temp.ML_input(),\n",
    "                           inform=False, timeout=None)\n",
    "                f = time()\n",
    "\n",
    "                times.loc[n] = [trees, len(temp), n_features, f-s]\n",
    "                n += 1\n",
    "\n",
    "        print(f\"{n:d} Fitted: {trees} trees; \" +\n",
    "              f\"{len(temp)} events; {n_features} features\")\n",
    "    \n",
    "    response = input(\"Save Grid Search? (y/n): \").lower()\n",
    "    while response not in ['y', 'yes', 'n', 'no']:\n",
    "        response = input(\"Save Grid Search? (y/n): \").lower()\n",
    "    \n",
    "    if response in ['y', 'yes']:\n",
    "        times.to_pickle(\"forest_fit_times.pkl\", protocol=-1)"
   ]
  },
  {
   "cell_type": "markdown",
   "metadata": {},
   "source": [
    "Create a dictionary of results by number of features (observables)."
   ]
  },
  {
   "cell_type": "code",
   "execution_count": 4,
   "metadata": {},
   "outputs": [],
   "source": [
    "gb = times.groupby('features')\n",
    "features = [gb.get_group(group).reset_index(drop=True)\n",
    "            for group in gb.groups]\n",
    "\n",
    "features = {feature.features[0]:feature for feature in features}\n",
    "\n",
    "for feature in features.values():\n",
    "    feature.drop(columns='features', inplace=True)"
   ]
  },
  {
   "cell_type": "markdown",
   "metadata": {},
   "source": [
    "Define a function to estiamte the fit time of a Random Forest. Define a function to returns chi-squared to minimise."
   ]
  },
  {
   "cell_type": "code",
   "execution_count": 191,
   "metadata": {},
   "outputs": [],
   "source": [
    "fmin, fmax = np.finfo('float64').min, np.finfo('float64').max\n",
    "\n",
    "def estimate_surf(n_features, n_trees, n_events, A, a, b, c, d, e):\n",
    "    estimate = A*(a*n_trees * b*n_features\n",
    "                  * c*n_events\n",
    "                  * d*np.log(e*n_events))\n",
    "    return estimate + 1\n",
    "\n",
    "\n",
    "def chi_squared(z_true, z_est):\n",
    "    chisq = (z_true - z_est)**2 / z_true\n",
    "    return np.sum(chisq)\n",
    "\n",
    "\n",
    "def sum_chi_squared(z_trues, est_fn, argss):\n",
    "    sum_chi = 0\n",
    "    for z_true, args in zip(z_trues, argss):\n",
    "        z_est = est_fn(*args)\n",
    "        red_chi = chi_squared(z_true, z_est) / (z_true.size - 1)\n",
    "        sum_chi += red_chi ** 2\n",
    "    return max(0, sum_chi**0.5)#, fmax)\n",
    "\n",
    "\n",
    "def min_fn(coef, wxys, z_trues):\n",
    "    argss = [tuple([*wxy, *coef]) for wxy in wxys]\n",
    "    sum_chi = sum_chi_squared(z_trues, estimate_surf, argss)\n",
    "    return sum_chi"
   ]
  },
  {
   "cell_type": "markdown",
   "metadata": {},
   "source": [
    "Chi Squared Minimise or use previous 'hard coded' values for coefficents."
   ]
  },
  {
   "cell_type": "code",
   "execution_count": 221,
   "metadata": {
    "scrolled": false
   },
   "outputs": [
    {
     "name": "stdout",
     "output_type": "stream",
     "text": [
      "Initial Guess:       6.73\n",
      "Best Guess:          0.67\n",
      "Best Guess Coefficients: [ 3.205e-007,\n",
      "\t\t\t   1.031e+000,\n",
      "\t\t\t   1.390e+000,\n",
      "\t\t\t   1.571e+000,\n",
      "\t\t\t   1.087e+000,\n",
      "\t\t\t   6.132e-003 ]\n",
      "\n",
      "Num Features: 2 --->    0.44\n",
      "Num Features: 4 --->    0.33\n",
      "Num Features: 6 --->    0.38\n"
     ]
    }
   ],
   "source": [
    "wxys, zs = [], []\n",
    "for n_features, df in features.items():\n",
    "    df = df.astype(float)\\\n",
    "           .set_index(['trees', 'events'])['fit_time']\\\n",
    "           .unstack(0)\n",
    "    \n",
    "    w = n_features\n",
    "    x, y = np.meshgrid(df.columns, df.index)\n",
    "    z_true = df.values\n",
    "    \n",
    "    wxys.append((w, x, y))\n",
    "    zs.append(z_true)\n",
    "\n",
    "initial_guess = (1/4000000, 1, 1, 1, 1 ,1)\n",
    "sum_chi = min_fn(initial_guess, wxys, zs)\n",
    "print(f\"Initial Guess: {sum_chi:>10,.2f}\")\n",
    "\n",
    "# Minimise Chi-squared for coefficents...\n",
    "if minimise:\n",
    "    from scipy.optimize import minimize \n",
    "    result = minimize(min_fn, initial_guess, args=(wxys, zs),\n",
    "                      options={'maxiter':1000, 'disp':True},\n",
    "                      method='Nelder-Mead')\n",
    "    best_guess = result.x\n",
    "# Or use hard-coded results from previous minimisation.\n",
    "else:\n",
    "    best_guess = np.array([3.20525123e-07, 1.03130986e+00,\n",
    "                           1.38976666e+00, 1.57069341e+00,\n",
    "                           1.08743505e+00, 6.13200046e-03],\n",
    "                          dtype='float64')\n",
    "    \n",
    "sum_chi = min_fn(best_guess, wxys, zs)\n",
    "print(f\"Best Guess: {sum_chi:>13,.2f}\")\n",
    "print(\"Best Guess Coefficients:\", end='')\n",
    "for n, coef in enumerate(best_guess):\n",
    "    start = ' [' if (n == 0) else '\\t\\t\\t  '\n",
    "    end = ' ]\\n' if (n+1 == len(best_guess)) else ',\\n'\n",
    "    significand, exponent = f\" {coef:.3e}\".split('e')\n",
    "    exponent = f\"e{int(exponent):+04d}\"\n",
    "    print(start + significand + exponent, end=end)\n",
    "\n",
    "print()\n",
    "for wxy, z in zip(wxys, zs):\n",
    "    z_est = estimate_surf(*wxy, *best_guess)\n",
    "    red_chi = chi_squared(z, z_est) / (z.size - 1)\n",
    "    print(f\"Num Features: {wxy[0]} ---> {red_chi:5,.2f}\")"
   ]
  },
  {
   "cell_type": "markdown",
   "metadata": {},
   "source": [
    "Use coefficents to plot the estimated surfaces and fit times."
   ]
  },
  {
   "cell_type": "code",
   "execution_count": 222,
   "metadata": {
    "scrolled": false
   },
   "outputs": [],
   "source": [
    "reload( analysis.plotting.plot3D )\n",
    "from analysis.plotting.plot3D import plot3D\n",
    "\n",
    "sx, sy, sz = 'trees', 'events', 'fit_time'\n",
    "coefficents = best_guess\n",
    "\n",
    "z0, z1 = (0, 225)\n",
    "x0, x1 = (0, max([df[sx].max() for df in features.values()]))\n",
    "y0, y1 = (0, max([df[sy].max() for df in features.values()]))\n",
    "\n",
    "ax3d = plot3D(x0=x0, x1=x1, y0=y0, y1=y1, z0=z0, z1=z1)\n",
    "\n",
    "for n_features, dataframe in features.items():    \n",
    "    df = dataframe.astype(float).set_index([sx, sy])[sz].unstack(0)\n",
    "\n",
    "    w = n_features\n",
    "    x, y = np.meshgrid(df.columns, df.index)\n",
    "    z = df.values\n",
    "\n",
    "    ax3d.surf(x, y, z, cmap_props={'alpha':(0.3, 0.9)})\n",
    "\n",
    "    z_e = estimate_surf(w, x, y, *coefficents) #*1.05\n",
    "    \n",
    "    \n",
    "    ax3d.surf(x, y, z_e, contours={'n_contours': 0},\n",
    "              colormap='Greens', cmap_props={'alpha':(0.3, 0.9)},\n",
    "              representation='wireframe')\n",
    "    \n",
    "ax3d.x_label=\"Trees\" \n",
    "ax3d.y_label=\"Events\" \n",
    "ax3d.z_label=\"Fit Time (s)\"\n",
    "\n",
    "ax3d.view = {'azimuth': 140}\n",
    "\n",
    "ax3d.show();"
   ]
  }
 ],
 "metadata": {
  "kernelspec": {
   "display_name": "Python 3",
   "language": "python",
   "name": "python3"
  },
  "language_info": {
   "codemirror_mode": {
    "name": "ipython",
    "version": 3
   },
   "file_extension": ".py",
   "mimetype": "text/x-python",
   "name": "python",
   "nbconvert_exporter": "python",
   "pygments_lexer": "ipython3",
   "version": "3.7.2"
  }
 },
 "nbformat": 4,
 "nbformat_minor": 2
}
