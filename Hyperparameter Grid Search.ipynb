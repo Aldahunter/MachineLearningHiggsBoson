{
 "cells": [
  {
   "cell_type": "code",
   "execution_count": 2,
   "metadata": {},
   "outputs": [],
   "source": [
    "import pandas as pd\n",
    "import numpy as np\n",
    "# from dwrangling.events import add_complex_observables, df_observables\n",
    "from trees.classifiers import BinaryTreeClassifier\n",
    "from sklearn.metrics import make_scorer, confusion_matrix\n",
    "from sklearn.model_selection import GridSearchCV, StratifiedKFold\n",
    "from analysis.metrics import find_p_threshold, S_B_ratio"
   ]
  },
  {
   "cell_type": "code",
   "execution_count": 1,
   "metadata": {},
   "outputs": [],
   "source": [
    "import pandas as pd\n",
    "from sklearn.metrics import make_scorer\n",
    "from sklearn.model_selection import GridSearchCV, StratifiedKFold\n",
    "\n",
    "import dwrangling.pipelines\n",
    "from dwrangling.pipelines import get_opt_dataframe\n",
    "import dwrangling.dataframes\n",
    "from dwrangling.dataframes import ODataFrame\n",
    "import dwrangling.dataframes.observables\n",
    "from dwrangling.dataframes.observables import add_reconstructed_observables\n",
    "\n",
    "from trees.classifiers import BinaryTreeClassifier\n",
    "\n",
    "import analysis.metrics\n",
    "from analysis.metrics import find_p_threshold, S_B_ratio"
   ]
  },
  {
   "cell_type": "code",
   "execution_count": 2,
   "metadata": {},
   "outputs": [],
   "source": [
    "coll = \"pp_2mu2e\"\n",
    "df = get_opt_dataframe(coll)"
   ]
  },
  {
   "cell_type": "code",
   "execution_count": 6,
   "metadata": {},
   "outputs": [],
   "source": [
    "obs, labs = df.ML_input()"
   ]
  },
  {
   "cell_type": "code",
   "execution_count": 7,
   "metadata": {},
   "outputs": [],
   "source": [
    "import numpy as np\n",
    "\n",
    "def score(Y, Y_pred):\n",
    "    try:\n",
    "        p_threshold = find_p_threshold(Y, Y_pred)\n",
    "        s = S_B_ratio(Y, Y_pred, p_threshold)\n",
    "    \n",
    "    except ZeroDivisionError:\n",
    "        s = 0.0\n",
    "        \n",
    "    return s\n",
    "    \n",
    "scorer = make_scorer(score, greater_is_better=True)"
   ]
  },
  {
   "cell_type": "code",
   "execution_count": 8,
   "metadata": {
    "scrolled": true
   },
   "outputs": [
    {
     "name": "stdout",
     "output_type": "stream",
     "text": [
      "StratifiedKFold(n_splits=5, random_state=None, shuffle=True)\n"
     ]
    }
   ],
   "source": [
    "parameters = {'max_depth':         [1,],    #[1, 10, 100, 1000],   #list(np.linspace(1, 20, 20)),\n",
    "              'min_samples_split': [350,],  #[1, 10, 100, 1000],   #list(np.linspace(0, 8000, 21)),\n",
    "              'min_samples_leaf':  [50,]}  #[1, 10, 100, 1000]}   #list(np.linspace(0, 6000, 21))}\n",
    "cross_validation = StratifiedKFold(n_splits=5, shuffle=True)\n",
    "print(cross_validation)\n",
    "grid = GridSearchCV(BinaryTreeClassifier(), param_grid=parameters, cv=cross_validation, scoring=scorer, refit=False, n_jobs=-1)"
   ]
  },
  {
   "cell_type": "code",
   "execution_count": 16,
   "metadata": {
    "scrolled": true
   },
   "outputs": [
    {
     "name": "stdout",
     "output_type": "stream",
     "text": [
      "StratifiedKFold(n_splits=5, random_state=None, shuffle=True)\n"
     ]
    }
   ],
   "source": [
    "parameters = {'max_depth':         list(np.linspace(1, 20, 20)),    #[1, 10, 100, 1000],   #list(np.linspace(1, 20, 20)),\n",
    "              'min_samples_split': list(np.linspace(0, 8000, 21)),  #[1, 10, 100, 1000],   #list(np.linspace(0, 8000, 21)),\n",
    "              'min_samples_leaf':  list(np.linspace(0, 6000, 21))}  #[1, 10, 100, 1000]}   #list(np.linspace(0, 6000, 21))}\n",
    "cross_validation = StratifiedKFold(n_splits=5, shuffle=True)\n",
    "print(cross_validation)\n",
    "grid = GridSearchCV(BinaryTreeClassifier(), param_grid=parameters, cv=cross_validation, scoring=scorer, refit=False, n_jobs=-1)"
   ]
  },
  {
   "cell_type": "code",
   "execution_count": 17,
   "metadata": {
    "scrolled": true
   },
   "outputs": [
    {
     "data": {
      "text/plain": [
       "GridSearchCV(cv=StratifiedKFold(n_splits=5, random_state=None, shuffle=True),\n",
       "       error_score='raise-deprecating',\n",
       "       estimator=BinaryTreeClassifier(Fitted: False; ), fit_params=None,\n",
       "       iid='warn', n_jobs=-1,\n",
       "       param_grid={'max_depth': [1.0, 2.0, 3.0, 4.0, 5.0, 6.0, 7.0, 8.0, 9.0, 10.0, 11.0, 12.0, 13.0, 14.0, 15.0, 16.0, 17.0, 18.0, 19.0, 20.0], 'min_samples_split': [0.0, 400.0, 800.0, 1200.0, 1600.0, 2000.0, 2400.0, 2800.0, 3200.0, 3600.0, 4000.0, 4400.0, 4800.0, 5200.0, 5600.0, 6000.0, 6400.0, 6800.0, 7....0, 2700.0, 3000.0, 3300.0, 3600.0, 3900.0, 4200.0, 4500.0, 4800.0, 5100.0, 5400.0, 5700.0, 6000.0]},\n",
       "       pre_dispatch='2*n_jobs', refit=False, return_train_score='warn',\n",
       "       scoring=make_scorer(score), verbose=0)"
      ]
     },
     "execution_count": 17,
     "metadata": {},
     "output_type": "execute_result"
    }
   ],
   "source": [
    "grid.fit(obs, labs)"
   ]
  },
  {
   "cell_type": "code",
   "execution_count": 18,
   "metadata": {},
   "outputs": [
    {
     "name": "stderr",
     "output_type": "stream",
     "text": [
      "C:\\Users\\Student\\AppData\\Roaming\\Python\\Python37\\site-packages\\sklearn\\utils\\deprecation.py:125: FutureWarning: You are accessing a training score ('split0_train_score'), which will not be available by default any more in 0.21. If you need training scores, please set return_train_score=True\n",
      "  warnings.warn(*warn_args, **warn_kwargs)\n",
      "C:\\Users\\Student\\AppData\\Roaming\\Python\\Python37\\site-packages\\sklearn\\utils\\deprecation.py:125: FutureWarning: You are accessing a training score ('split1_train_score'), which will not be available by default any more in 0.21. If you need training scores, please set return_train_score=True\n",
      "  warnings.warn(*warn_args, **warn_kwargs)\n",
      "C:\\Users\\Student\\AppData\\Roaming\\Python\\Python37\\site-packages\\sklearn\\utils\\deprecation.py:125: FutureWarning: You are accessing a training score ('split2_train_score'), which will not be available by default any more in 0.21. If you need training scores, please set return_train_score=True\n",
      "  warnings.warn(*warn_args, **warn_kwargs)\n",
      "C:\\Users\\Student\\AppData\\Roaming\\Python\\Python37\\site-packages\\sklearn\\utils\\deprecation.py:125: FutureWarning: You are accessing a training score ('split3_train_score'), which will not be available by default any more in 0.21. If you need training scores, please set return_train_score=True\n",
      "  warnings.warn(*warn_args, **warn_kwargs)\n",
      "C:\\Users\\Student\\AppData\\Roaming\\Python\\Python37\\site-packages\\sklearn\\utils\\deprecation.py:125: FutureWarning: You are accessing a training score ('split4_train_score'), which will not be available by default any more in 0.21. If you need training scores, please set return_train_score=True\n",
      "  warnings.warn(*warn_args, **warn_kwargs)\n",
      "C:\\Users\\Student\\AppData\\Roaming\\Python\\Python37\\site-packages\\sklearn\\utils\\deprecation.py:125: FutureWarning: You are accessing a training score ('mean_train_score'), which will not be available by default any more in 0.21. If you need training scores, please set return_train_score=True\n",
      "  warnings.warn(*warn_args, **warn_kwargs)\n",
      "C:\\Users\\Student\\AppData\\Roaming\\Python\\Python37\\site-packages\\sklearn\\utils\\deprecation.py:125: FutureWarning: You are accessing a training score ('std_train_score'), which will not be available by default any more in 0.21. If you need training scores, please set return_train_score=True\n",
      "  warnings.warn(*warn_args, **warn_kwargs)\n"
     ]
    },
    {
     "data": {
      "text/plain": [
       "{'mean_fit_time': array([0.22898788, 0.22061095, 0.20983915, ..., 0.42177505, 0.35616584,\n",
       "        0.34366913]),\n",
       " 'std_fit_time': array([0.00478876, 0.00662766, 0.01455601, ..., 0.04738197, 0.00624797,\n",
       "        0.00987986]),\n",
       " 'mean_score_time': array([0.58064418, 0.59540591, 0.59568853, ..., 0.56735134, 0.55548749,\n",
       "        0.51867466]),\n",
       " 'std_score_time': array([0.02033704, 0.01032626, 0.01804937, ..., 0.01588178, 0.01910054,\n",
       "        0.09067072]),\n",
       " 'param_max_depth': masked_array(data=[1.0, 1.0, 1.0, ..., 20.0, 20.0, 20.0],\n",
       "              mask=[False, False, False, ..., False, False, False],\n",
       "        fill_value='?',\n",
       "             dtype=object),\n",
       " 'param_min_samples_leaf': masked_array(data=[0.0, 0.0, 0.0, ..., 6000.0, 6000.0, 6000.0],\n",
       "              mask=[False, False, False, ..., False, False, False],\n",
       "        fill_value='?',\n",
       "             dtype=object),\n",
       " 'param_min_samples_split': masked_array(data=[0.0, 400.0, 800.0, ..., 7200.0, 7600.0, 8000.0],\n",
       "              mask=[False, False, False, ..., False, False, False],\n",
       "        fill_value='?',\n",
       "             dtype=object),\n",
       " 'params': [{'max_depth': 1.0,\n",
       "   'min_samples_leaf': 0.0,\n",
       "   'min_samples_split': 0.0},\n",
       "  {'max_depth': 1.0, 'min_samples_leaf': 0.0, 'min_samples_split': 400.0},\n",
       "  {'max_depth': 1.0, 'min_samples_leaf': 0.0, 'min_samples_split': 800.0},\n",
       "  {'max_depth': 1.0, 'min_samples_leaf': 0.0, 'min_samples_split': 1200.0},\n",
       "  {'max_depth': 1.0, 'min_samples_leaf': 0.0, 'min_samples_split': 1600.0},\n",
       "  {'max_depth': 1.0, 'min_samples_leaf': 0.0, 'min_samples_split': 2000.0},\n",
       "  {'max_depth': 1.0, 'min_samples_leaf': 0.0, 'min_samples_split': 2400.0},\n",
       "  {'max_depth': 1.0, 'min_samples_leaf': 0.0, 'min_samples_split': 2800.0},\n",
       "  {'max_depth': 1.0, 'min_samples_leaf': 0.0, 'min_samples_split': 3200.0},\n",
       "  {'max_depth': 1.0, 'min_samples_leaf': 0.0, 'min_samples_split': 3600.0},\n",
       "  {'max_depth': 1.0, 'min_samples_leaf': 0.0, 'min_samples_split': 4000.0},\n",
       "  {'max_depth': 1.0, 'min_samples_leaf': 0.0, 'min_samples_split': 4400.0},\n",
       "  {'max_depth': 1.0, 'min_samples_leaf': 0.0, 'min_samples_split': 4800.0},\n",
       "  {'max_depth': 1.0, 'min_samples_leaf': 0.0, 'min_samples_split': 5200.0},\n",
       "  {'max_depth': 1.0, 'min_samples_leaf': 0.0, 'min_samples_split': 5600.0},\n",
       "  {'max_depth': 1.0, 'min_samples_leaf': 0.0, 'min_samples_split': 6000.0},\n",
       "  {'max_depth': 1.0, 'min_samples_leaf': 0.0, 'min_samples_split': 6400.0},\n",
       "  {'max_depth': 1.0, 'min_samples_leaf': 0.0, 'min_samples_split': 6800.0},\n",
       "  {'max_depth': 1.0, 'min_samples_leaf': 0.0, 'min_samples_split': 7200.0},\n",
       "  {'max_depth': 1.0, 'min_samples_leaf': 0.0, 'min_samples_split': 7600.0},\n",
       "  {'max_depth': 1.0, 'min_samples_leaf': 0.0, 'min_samples_split': 8000.0},\n",
       "  {'max_depth': 1.0, 'min_samples_leaf': 300.0, 'min_samples_split': 0.0},\n",
       "  {'max_depth': 1.0, 'min_samples_leaf': 300.0, 'min_samples_split': 400.0},\n",
       "  {'max_depth': 1.0, 'min_samples_leaf': 300.0, 'min_samples_split': 800.0},\n",
       "  {'max_depth': 1.0, 'min_samples_leaf': 300.0, 'min_samples_split': 1200.0},\n",
       "  {'max_depth': 1.0, 'min_samples_leaf': 300.0, 'min_samples_split': 1600.0},\n",
       "  {'max_depth': 1.0, 'min_samples_leaf': 300.0, 'min_samples_split': 2000.0},\n",
       "  {'max_depth': 1.0, 'min_samples_leaf': 300.0, 'min_samples_split': 2400.0},\n",
       "  {'max_depth': 1.0, 'min_samples_leaf': 300.0, 'min_samples_split': 2800.0},\n",
       "  {'max_depth': 1.0, 'min_samples_leaf': 300.0, 'min_samples_split': 3200.0},\n",
       "  {'max_depth': 1.0, 'min_samples_leaf': 300.0, 'min_samples_split': 3600.0},\n",
       "  {'max_depth': 1.0, 'min_samples_leaf': 300.0, 'min_samples_split': 4000.0},\n",
       "  {'max_depth': 1.0, 'min_samples_leaf': 300.0, 'min_samples_split': 4400.0},\n",
       "  {'max_depth': 1.0, 'min_samples_leaf': 300.0, 'min_samples_split': 4800.0},\n",
       "  {'max_depth': 1.0, 'min_samples_leaf': 300.0, 'min_samples_split': 5200.0},\n",
       "  {'max_depth': 1.0, 'min_samples_leaf': 300.0, 'min_samples_split': 5600.0},\n",
       "  {'max_depth': 1.0, 'min_samples_leaf': 300.0, 'min_samples_split': 6000.0},\n",
       "  {'max_depth': 1.0, 'min_samples_leaf': 300.0, 'min_samples_split': 6400.0},\n",
       "  {'max_depth': 1.0, 'min_samples_leaf': 300.0, 'min_samples_split': 6800.0},\n",
       "  {'max_depth': 1.0, 'min_samples_leaf': 300.0, 'min_samples_split': 7200.0},\n",
       "  {'max_depth': 1.0, 'min_samples_leaf': 300.0, 'min_samples_split': 7600.0},\n",
       "  {'max_depth': 1.0, 'min_samples_leaf': 300.0, 'min_samples_split': 8000.0},\n",
       "  {'max_depth': 1.0, 'min_samples_leaf': 600.0, 'min_samples_split': 0.0},\n",
       "  {'max_depth': 1.0, 'min_samples_leaf': 600.0, 'min_samples_split': 400.0},\n",
       "  {'max_depth': 1.0, 'min_samples_leaf': 600.0, 'min_samples_split': 800.0},\n",
       "  {'max_depth': 1.0, 'min_samples_leaf': 600.0, 'min_samples_split': 1200.0},\n",
       "  {'max_depth': 1.0, 'min_samples_leaf': 600.0, 'min_samples_split': 1600.0},\n",
       "  {'max_depth': 1.0, 'min_samples_leaf': 600.0, 'min_samples_split': 2000.0},\n",
       "  {'max_depth': 1.0, 'min_samples_leaf': 600.0, 'min_samples_split': 2400.0},\n",
       "  {'max_depth': 1.0, 'min_samples_leaf': 600.0, 'min_samples_split': 2800.0},\n",
       "  {'max_depth': 1.0, 'min_samples_leaf': 600.0, 'min_samples_split': 3200.0},\n",
       "  {'max_depth': 1.0, 'min_samples_leaf': 600.0, 'min_samples_split': 3600.0},\n",
       "  {'max_depth': 1.0, 'min_samples_leaf': 600.0, 'min_samples_split': 4000.0},\n",
       "  {'max_depth': 1.0, 'min_samples_leaf': 600.0, 'min_samples_split': 4400.0},\n",
       "  {'max_depth': 1.0, 'min_samples_leaf': 600.0, 'min_samples_split': 4800.0},\n",
       "  {'max_depth': 1.0, 'min_samples_leaf': 600.0, 'min_samples_split': 5200.0},\n",
       "  {'max_depth': 1.0, 'min_samples_leaf': 600.0, 'min_samples_split': 5600.0},\n",
       "  {'max_depth': 1.0, 'min_samples_leaf': 600.0, 'min_samples_split': 6000.0},\n",
       "  {'max_depth': 1.0, 'min_samples_leaf': 600.0, 'min_samples_split': 6400.0},\n",
       "  {'max_depth': 1.0, 'min_samples_leaf': 600.0, 'min_samples_split': 6800.0},\n",
       "  {'max_depth': 1.0, 'min_samples_leaf': 600.0, 'min_samples_split': 7200.0},\n",
       "  {'max_depth': 1.0, 'min_samples_leaf': 600.0, 'min_samples_split': 7600.0},\n",
       "  {'max_depth': 1.0, 'min_samples_leaf': 600.0, 'min_samples_split': 8000.0},\n",
       "  {'max_depth': 1.0, 'min_samples_leaf': 900.0, 'min_samples_split': 0.0},\n",
       "  {'max_depth': 1.0, 'min_samples_leaf': 900.0, 'min_samples_split': 400.0},\n",
       "  {'max_depth': 1.0, 'min_samples_leaf': 900.0, 'min_samples_split': 800.0},\n",
       "  {'max_depth': 1.0, 'min_samples_leaf': 900.0, 'min_samples_split': 1200.0},\n",
       "  {'max_depth': 1.0, 'min_samples_leaf': 900.0, 'min_samples_split': 1600.0},\n",
       "  {'max_depth': 1.0, 'min_samples_leaf': 900.0, 'min_samples_split': 2000.0},\n",
       "  {'max_depth': 1.0, 'min_samples_leaf': 900.0, 'min_samples_split': 2400.0},\n",
       "  {'max_depth': 1.0, 'min_samples_leaf': 900.0, 'min_samples_split': 2800.0},\n",
       "  {'max_depth': 1.0, 'min_samples_leaf': 900.0, 'min_samples_split': 3200.0},\n",
       "  {'max_depth': 1.0, 'min_samples_leaf': 900.0, 'min_samples_split': 3600.0},\n",
       "  {'max_depth': 1.0, 'min_samples_leaf': 900.0, 'min_samples_split': 4000.0},\n",
       "  {'max_depth': 1.0, 'min_samples_leaf': 900.0, 'min_samples_split': 4400.0},\n",
       "  {'max_depth': 1.0, 'min_samples_leaf': 900.0, 'min_samples_split': 4800.0},\n",
       "  {'max_depth': 1.0, 'min_samples_leaf': 900.0, 'min_samples_split': 5200.0},\n",
       "  {'max_depth': 1.0, 'min_samples_leaf': 900.0, 'min_samples_split': 5600.0},\n",
       "  {'max_depth': 1.0, 'min_samples_leaf': 900.0, 'min_samples_split': 6000.0},\n",
       "  {'max_depth': 1.0, 'min_samples_leaf': 900.0, 'min_samples_split': 6400.0},\n",
       "  {'max_depth': 1.0, 'min_samples_leaf': 900.0, 'min_samples_split': 6800.0},\n",
       "  {'max_depth': 1.0, 'min_samples_leaf': 900.0, 'min_samples_split': 7200.0},\n",
       "  {'max_depth': 1.0, 'min_samples_leaf': 900.0, 'min_samples_split': 7600.0},\n",
       "  {'max_depth': 1.0, 'min_samples_leaf': 900.0, 'min_samples_split': 8000.0},\n",
       "  {'max_depth': 1.0, 'min_samples_leaf': 1200.0, 'min_samples_split': 0.0},\n",
       "  {'max_depth': 1.0, 'min_samples_leaf': 1200.0, 'min_samples_split': 400.0},\n",
       "  {'max_depth': 1.0, 'min_samples_leaf': 1200.0, 'min_samples_split': 800.0},\n",
       "  {'max_depth': 1.0, 'min_samples_leaf': 1200.0, 'min_samples_split': 1200.0},\n",
       "  {'max_depth': 1.0, 'min_samples_leaf': 1200.0, 'min_samples_split': 1600.0},\n",
       "  {'max_depth': 1.0, 'min_samples_leaf': 1200.0, 'min_samples_split': 2000.0},\n",
       "  {'max_depth': 1.0, 'min_samples_leaf': 1200.0, 'min_samples_split': 2400.0},\n",
       "  {'max_depth': 1.0, 'min_samples_leaf': 1200.0, 'min_samples_split': 2800.0},\n",
       "  {'max_depth': 1.0, 'min_samples_leaf': 1200.0, 'min_samples_split': 3200.0},\n",
       "  {'max_depth': 1.0, 'min_samples_leaf': 1200.0, 'min_samples_split': 3600.0},\n",
       "  {'max_depth': 1.0, 'min_samples_leaf': 1200.0, 'min_samples_split': 4000.0},\n",
       "  {'max_depth': 1.0, 'min_samples_leaf': 1200.0, 'min_samples_split': 4400.0},\n",
       "  {'max_depth': 1.0, 'min_samples_leaf': 1200.0, 'min_samples_split': 4800.0},\n",
       "  {'max_depth': 1.0, 'min_samples_leaf': 1200.0, 'min_samples_split': 5200.0},\n",
       "  {'max_depth': 1.0, 'min_samples_leaf': 1200.0, 'min_samples_split': 5600.0},\n",
       "  {'max_depth': 1.0, 'min_samples_leaf': 1200.0, 'min_samples_split': 6000.0},\n",
       "  {'max_depth': 1.0, 'min_samples_leaf': 1200.0, 'min_samples_split': 6400.0},\n",
       "  {'max_depth': 1.0, 'min_samples_leaf': 1200.0, 'min_samples_split': 6800.0},\n",
       "  {'max_depth': 1.0, 'min_samples_leaf': 1200.0, 'min_samples_split': 7200.0},\n",
       "  {'max_depth': 1.0, 'min_samples_leaf': 1200.0, 'min_samples_split': 7600.0},\n",
       "  {'max_depth': 1.0, 'min_samples_leaf': 1200.0, 'min_samples_split': 8000.0},\n",
       "  {'max_depth': 1.0, 'min_samples_leaf': 1500.0, 'min_samples_split': 0.0},\n",
       "  {'max_depth': 1.0, 'min_samples_leaf': 1500.0, 'min_samples_split': 400.0},\n",
       "  {'max_depth': 1.0, 'min_samples_leaf': 1500.0, 'min_samples_split': 800.0},\n",
       "  {'max_depth': 1.0, 'min_samples_leaf': 1500.0, 'min_samples_split': 1200.0},\n",
       "  {'max_depth': 1.0, 'min_samples_leaf': 1500.0, 'min_samples_split': 1600.0},\n",
       "  {'max_depth': 1.0, 'min_samples_leaf': 1500.0, 'min_samples_split': 2000.0},\n",
       "  {'max_depth': 1.0, 'min_samples_leaf': 1500.0, 'min_samples_split': 2400.0},\n",
       "  {'max_depth': 1.0, 'min_samples_leaf': 1500.0, 'min_samples_split': 2800.0},\n",
       "  {'max_depth': 1.0, 'min_samples_leaf': 1500.0, 'min_samples_split': 3200.0},\n",
       "  {'max_depth': 1.0, 'min_samples_leaf': 1500.0, 'min_samples_split': 3600.0},\n",
       "  {'max_depth': 1.0, 'min_samples_leaf': 1500.0, 'min_samples_split': 4000.0},\n",
       "  {'max_depth': 1.0, 'min_samples_leaf': 1500.0, 'min_samples_split': 4400.0},\n",
       "  {'max_depth': 1.0, 'min_samples_leaf': 1500.0, 'min_samples_split': 4800.0},\n",
       "  {'max_depth': 1.0, 'min_samples_leaf': 1500.0, 'min_samples_split': 5200.0},\n",
       "  {'max_depth': 1.0, 'min_samples_leaf': 1500.0, 'min_samples_split': 5600.0},\n",
       "  {'max_depth': 1.0, 'min_samples_leaf': 1500.0, 'min_samples_split': 6000.0},\n",
       "  {'max_depth': 1.0, 'min_samples_leaf': 1500.0, 'min_samples_split': 6400.0},\n",
       "  {'max_depth': 1.0, 'min_samples_leaf': 1500.0, 'min_samples_split': 6800.0},\n",
       "  {'max_depth': 1.0, 'min_samples_leaf': 1500.0, 'min_samples_split': 7200.0},\n",
       "  {'max_depth': 1.0, 'min_samples_leaf': 1500.0, 'min_samples_split': 7600.0},\n",
       "  {'max_depth': 1.0, 'min_samples_leaf': 1500.0, 'min_samples_split': 8000.0},\n",
       "  {'max_depth': 1.0, 'min_samples_leaf': 1800.0, 'min_samples_split': 0.0},\n",
       "  {'max_depth': 1.0, 'min_samples_leaf': 1800.0, 'min_samples_split': 400.0},\n",
       "  {'max_depth': 1.0, 'min_samples_leaf': 1800.0, 'min_samples_split': 800.0},\n",
       "  {'max_depth': 1.0, 'min_samples_leaf': 1800.0, 'min_samples_split': 1200.0},\n",
       "  {'max_depth': 1.0, 'min_samples_leaf': 1800.0, 'min_samples_split': 1600.0},\n",
       "  {'max_depth': 1.0, 'min_samples_leaf': 1800.0, 'min_samples_split': 2000.0},\n",
       "  {'max_depth': 1.0, 'min_samples_leaf': 1800.0, 'min_samples_split': 2400.0},\n",
       "  {'max_depth': 1.0, 'min_samples_leaf': 1800.0, 'min_samples_split': 2800.0},\n",
       "  {'max_depth': 1.0, 'min_samples_leaf': 1800.0, 'min_samples_split': 3200.0},\n",
       "  {'max_depth': 1.0, 'min_samples_leaf': 1800.0, 'min_samples_split': 3600.0},\n",
       "  {'max_depth': 1.0, 'min_samples_leaf': 1800.0, 'min_samples_split': 4000.0},\n",
       "  {'max_depth': 1.0, 'min_samples_leaf': 1800.0, 'min_samples_split': 4400.0},\n",
       "  {'max_depth': 1.0, 'min_samples_leaf': 1800.0, 'min_samples_split': 4800.0},\n",
       "  {'max_depth': 1.0, 'min_samples_leaf': 1800.0, 'min_samples_split': 5200.0},\n",
       "  {'max_depth': 1.0, 'min_samples_leaf': 1800.0, 'min_samples_split': 5600.0},\n",
       "  {'max_depth': 1.0, 'min_samples_leaf': 1800.0, 'min_samples_split': 6000.0},\n",
       "  {'max_depth': 1.0, 'min_samples_leaf': 1800.0, 'min_samples_split': 6400.0},\n",
       "  {'max_depth': 1.0, 'min_samples_leaf': 1800.0, 'min_samples_split': 6800.0},\n",
       "  {'max_depth': 1.0, 'min_samples_leaf': 1800.0, 'min_samples_split': 7200.0},\n",
       "  {'max_depth': 1.0, 'min_samples_leaf': 1800.0, 'min_samples_split': 7600.0},\n",
       "  {'max_depth': 1.0, 'min_samples_leaf': 1800.0, 'min_samples_split': 8000.0},\n",
       "  {'max_depth': 1.0, 'min_samples_leaf': 2100.0, 'min_samples_split': 0.0},\n",
       "  {'max_depth': 1.0, 'min_samples_leaf': 2100.0, 'min_samples_split': 400.0},\n",
       "  {'max_depth': 1.0, 'min_samples_leaf': 2100.0, 'min_samples_split': 800.0},\n",
       "  {'max_depth': 1.0, 'min_samples_leaf': 2100.0, 'min_samples_split': 1200.0},\n",
       "  {'max_depth': 1.0, 'min_samples_leaf': 2100.0, 'min_samples_split': 1600.0},\n",
       "  {'max_depth': 1.0, 'min_samples_leaf': 2100.0, 'min_samples_split': 2000.0},\n",
       "  {'max_depth': 1.0, 'min_samples_leaf': 2100.0, 'min_samples_split': 2400.0},\n",
       "  {'max_depth': 1.0, 'min_samples_leaf': 2100.0, 'min_samples_split': 2800.0},\n",
       "  {'max_depth': 1.0, 'min_samples_leaf': 2100.0, 'min_samples_split': 3200.0},\n",
       "  {'max_depth': 1.0, 'min_samples_leaf': 2100.0, 'min_samples_split': 3600.0},\n",
       "  {'max_depth': 1.0, 'min_samples_leaf': 2100.0, 'min_samples_split': 4000.0},\n",
       "  {'max_depth': 1.0, 'min_samples_leaf': 2100.0, 'min_samples_split': 4400.0},\n",
       "  {'max_depth': 1.0, 'min_samples_leaf': 2100.0, 'min_samples_split': 4800.0},\n",
       "  {'max_depth': 1.0, 'min_samples_leaf': 2100.0, 'min_samples_split': 5200.0},\n",
       "  {'max_depth': 1.0, 'min_samples_leaf': 2100.0, 'min_samples_split': 5600.0},\n",
       "  {'max_depth': 1.0, 'min_samples_leaf': 2100.0, 'min_samples_split': 6000.0},\n",
       "  {'max_depth': 1.0, 'min_samples_leaf': 2100.0, 'min_samples_split': 6400.0},\n",
       "  {'max_depth': 1.0, 'min_samples_leaf': 2100.0, 'min_samples_split': 6800.0},\n",
       "  {'max_depth': 1.0, 'min_samples_leaf': 2100.0, 'min_samples_split': 7200.0},\n",
       "  {'max_depth': 1.0, 'min_samples_leaf': 2100.0, 'min_samples_split': 7600.0},\n",
       "  {'max_depth': 1.0, 'min_samples_leaf': 2100.0, 'min_samples_split': 8000.0},\n",
       "  {'max_depth': 1.0, 'min_samples_leaf': 2400.0, 'min_samples_split': 0.0},\n",
       "  {'max_depth': 1.0, 'min_samples_leaf': 2400.0, 'min_samples_split': 400.0},\n",
       "  {'max_depth': 1.0, 'min_samples_leaf': 2400.0, 'min_samples_split': 800.0},\n",
       "  {'max_depth': 1.0, 'min_samples_leaf': 2400.0, 'min_samples_split': 1200.0},\n",
       "  {'max_depth': 1.0, 'min_samples_leaf': 2400.0, 'min_samples_split': 1600.0},\n",
       "  {'max_depth': 1.0, 'min_samples_leaf': 2400.0, 'min_samples_split': 2000.0},\n",
       "  {'max_depth': 1.0, 'min_samples_leaf': 2400.0, 'min_samples_split': 2400.0},\n",
       "  {'max_depth': 1.0, 'min_samples_leaf': 2400.0, 'min_samples_split': 2800.0},\n",
       "  {'max_depth': 1.0, 'min_samples_leaf': 2400.0, 'min_samples_split': 3200.0},\n",
       "  {'max_depth': 1.0, 'min_samples_leaf': 2400.0, 'min_samples_split': 3600.0},\n",
       "  {'max_depth': 1.0, 'min_samples_leaf': 2400.0, 'min_samples_split': 4000.0},\n",
       "  {'max_depth': 1.0, 'min_samples_leaf': 2400.0, 'min_samples_split': 4400.0},\n",
       "  {'max_depth': 1.0, 'min_samples_leaf': 2400.0, 'min_samples_split': 4800.0},\n",
       "  {'max_depth': 1.0, 'min_samples_leaf': 2400.0, 'min_samples_split': 5200.0},\n",
       "  {'max_depth': 1.0, 'min_samples_leaf': 2400.0, 'min_samples_split': 5600.0},\n",
       "  {'max_depth': 1.0, 'min_samples_leaf': 2400.0, 'min_samples_split': 6000.0},\n",
       "  {'max_depth': 1.0, 'min_samples_leaf': 2400.0, 'min_samples_split': 6400.0},\n",
       "  {'max_depth': 1.0, 'min_samples_leaf': 2400.0, 'min_samples_split': 6800.0},\n",
       "  {'max_depth': 1.0, 'min_samples_leaf': 2400.0, 'min_samples_split': 7200.0},\n",
       "  {'max_depth': 1.0, 'min_samples_leaf': 2400.0, 'min_samples_split': 7600.0},\n",
       "  {'max_depth': 1.0, 'min_samples_leaf': 2400.0, 'min_samples_split': 8000.0},\n",
       "  {'max_depth': 1.0, 'min_samples_leaf': 2700.0, 'min_samples_split': 0.0},\n",
       "  {'max_depth': 1.0, 'min_samples_leaf': 2700.0, 'min_samples_split': 400.0},\n",
       "  {'max_depth': 1.0, 'min_samples_leaf': 2700.0, 'min_samples_split': 800.0},\n",
       "  {'max_depth': 1.0, 'min_samples_leaf': 2700.0, 'min_samples_split': 1200.0},\n",
       "  {'max_depth': 1.0, 'min_samples_leaf': 2700.0, 'min_samples_split': 1600.0},\n",
       "  {'max_depth': 1.0, 'min_samples_leaf': 2700.0, 'min_samples_split': 2000.0},\n",
       "  {'max_depth': 1.0, 'min_samples_leaf': 2700.0, 'min_samples_split': 2400.0},\n",
       "  {'max_depth': 1.0, 'min_samples_leaf': 2700.0, 'min_samples_split': 2800.0},\n",
       "  {'max_depth': 1.0, 'min_samples_leaf': 2700.0, 'min_samples_split': 3200.0},\n",
       "  {'max_depth': 1.0, 'min_samples_leaf': 2700.0, 'min_samples_split': 3600.0},\n",
       "  {'max_depth': 1.0, 'min_samples_leaf': 2700.0, 'min_samples_split': 4000.0},\n",
       "  {'max_depth': 1.0, 'min_samples_leaf': 2700.0, 'min_samples_split': 4400.0},\n",
       "  {'max_depth': 1.0, 'min_samples_leaf': 2700.0, 'min_samples_split': 4800.0},\n",
       "  {'max_depth': 1.0, 'min_samples_leaf': 2700.0, 'min_samples_split': 5200.0},\n",
       "  {'max_depth': 1.0, 'min_samples_leaf': 2700.0, 'min_samples_split': 5600.0},\n",
       "  {'max_depth': 1.0, 'min_samples_leaf': 2700.0, 'min_samples_split': 6000.0},\n",
       "  {'max_depth': 1.0, 'min_samples_leaf': 2700.0, 'min_samples_split': 6400.0},\n",
       "  {'max_depth': 1.0, 'min_samples_leaf': 2700.0, 'min_samples_split': 6800.0},\n",
       "  {'max_depth': 1.0, 'min_samples_leaf': 2700.0, 'min_samples_split': 7200.0},\n",
       "  {'max_depth': 1.0, 'min_samples_leaf': 2700.0, 'min_samples_split': 7600.0},\n",
       "  {'max_depth': 1.0, 'min_samples_leaf': 2700.0, 'min_samples_split': 8000.0},\n",
       "  {'max_depth': 1.0, 'min_samples_leaf': 3000.0, 'min_samples_split': 0.0},\n",
       "  {'max_depth': 1.0, 'min_samples_leaf': 3000.0, 'min_samples_split': 400.0},\n",
       "  {'max_depth': 1.0, 'min_samples_leaf': 3000.0, 'min_samples_split': 800.0},\n",
       "  {'max_depth': 1.0, 'min_samples_leaf': 3000.0, 'min_samples_split': 1200.0},\n",
       "  {'max_depth': 1.0, 'min_samples_leaf': 3000.0, 'min_samples_split': 1600.0},\n",
       "  {'max_depth': 1.0, 'min_samples_leaf': 3000.0, 'min_samples_split': 2000.0},\n",
       "  {'max_depth': 1.0, 'min_samples_leaf': 3000.0, 'min_samples_split': 2400.0},\n",
       "  {'max_depth': 1.0, 'min_samples_leaf': 3000.0, 'min_samples_split': 2800.0},\n",
       "  {'max_depth': 1.0, 'min_samples_leaf': 3000.0, 'min_samples_split': 3200.0},\n",
       "  {'max_depth': 1.0, 'min_samples_leaf': 3000.0, 'min_samples_split': 3600.0},\n",
       "  {'max_depth': 1.0, 'min_samples_leaf': 3000.0, 'min_samples_split': 4000.0},\n",
       "  {'max_depth': 1.0, 'min_samples_leaf': 3000.0, 'min_samples_split': 4400.0},\n",
       "  {'max_depth': 1.0, 'min_samples_leaf': 3000.0, 'min_samples_split': 4800.0},\n",
       "  {'max_depth': 1.0, 'min_samples_leaf': 3000.0, 'min_samples_split': 5200.0},\n",
       "  {'max_depth': 1.0, 'min_samples_leaf': 3000.0, 'min_samples_split': 5600.0},\n",
       "  {'max_depth': 1.0, 'min_samples_leaf': 3000.0, 'min_samples_split': 6000.0},\n",
       "  {'max_depth': 1.0, 'min_samples_leaf': 3000.0, 'min_samples_split': 6400.0},\n",
       "  {'max_depth': 1.0, 'min_samples_leaf': 3000.0, 'min_samples_split': 6800.0},\n",
       "  {'max_depth': 1.0, 'min_samples_leaf': 3000.0, 'min_samples_split': 7200.0},\n",
       "  {'max_depth': 1.0, 'min_samples_leaf': 3000.0, 'min_samples_split': 7600.0},\n",
       "  {'max_depth': 1.0, 'min_samples_leaf': 3000.0, 'min_samples_split': 8000.0},\n",
       "  {'max_depth': 1.0, 'min_samples_leaf': 3300.0, 'min_samples_split': 0.0},\n",
       "  {'max_depth': 1.0, 'min_samples_leaf': 3300.0, 'min_samples_split': 400.0},\n",
       "  {'max_depth': 1.0, 'min_samples_leaf': 3300.0, 'min_samples_split': 800.0},\n",
       "  {'max_depth': 1.0, 'min_samples_leaf': 3300.0, 'min_samples_split': 1200.0},\n",
       "  {'max_depth': 1.0, 'min_samples_leaf': 3300.0, 'min_samples_split': 1600.0},\n",
       "  {'max_depth': 1.0, 'min_samples_leaf': 3300.0, 'min_samples_split': 2000.0},\n",
       "  {'max_depth': 1.0, 'min_samples_leaf': 3300.0, 'min_samples_split': 2400.0},\n",
       "  {'max_depth': 1.0, 'min_samples_leaf': 3300.0, 'min_samples_split': 2800.0},\n",
       "  {'max_depth': 1.0, 'min_samples_leaf': 3300.0, 'min_samples_split': 3200.0},\n",
       "  {'max_depth': 1.0, 'min_samples_leaf': 3300.0, 'min_samples_split': 3600.0},\n",
       "  {'max_depth': 1.0, 'min_samples_leaf': 3300.0, 'min_samples_split': 4000.0},\n",
       "  {'max_depth': 1.0, 'min_samples_leaf': 3300.0, 'min_samples_split': 4400.0},\n",
       "  {'max_depth': 1.0, 'min_samples_leaf': 3300.0, 'min_samples_split': 4800.0},\n",
       "  {'max_depth': 1.0, 'min_samples_leaf': 3300.0, 'min_samples_split': 5200.0},\n",
       "  {'max_depth': 1.0, 'min_samples_leaf': 3300.0, 'min_samples_split': 5600.0},\n",
       "  {'max_depth': 1.0, 'min_samples_leaf': 3300.0, 'min_samples_split': 6000.0},\n",
       "  {'max_depth': 1.0, 'min_samples_leaf': 3300.0, 'min_samples_split': 6400.0},\n",
       "  {'max_depth': 1.0, 'min_samples_leaf': 3300.0, 'min_samples_split': 6800.0},\n",
       "  {'max_depth': 1.0, 'min_samples_leaf': 3300.0, 'min_samples_split': 7200.0},\n",
       "  {'max_depth': 1.0, 'min_samples_leaf': 3300.0, 'min_samples_split': 7600.0},\n",
       "  {'max_depth': 1.0, 'min_samples_leaf': 3300.0, 'min_samples_split': 8000.0},\n",
       "  {'max_depth': 1.0, 'min_samples_leaf': 3600.0, 'min_samples_split': 0.0},\n",
       "  {'max_depth': 1.0, 'min_samples_leaf': 3600.0, 'min_samples_split': 400.0},\n",
       "  {'max_depth': 1.0, 'min_samples_leaf': 3600.0, 'min_samples_split': 800.0},\n",
       "  {'max_depth': 1.0, 'min_samples_leaf': 3600.0, 'min_samples_split': 1200.0},\n",
       "  {'max_depth': 1.0, 'min_samples_leaf': 3600.0, 'min_samples_split': 1600.0},\n",
       "  {'max_depth': 1.0, 'min_samples_leaf': 3600.0, 'min_samples_split': 2000.0},\n",
       "  {'max_depth': 1.0, 'min_samples_leaf': 3600.0, 'min_samples_split': 2400.0},\n",
       "  {'max_depth': 1.0, 'min_samples_leaf': 3600.0, 'min_samples_split': 2800.0},\n",
       "  {'max_depth': 1.0, 'min_samples_leaf': 3600.0, 'min_samples_split': 3200.0},\n",
       "  {'max_depth': 1.0, 'min_samples_leaf': 3600.0, 'min_samples_split': 3600.0},\n",
       "  {'max_depth': 1.0, 'min_samples_leaf': 3600.0, 'min_samples_split': 4000.0},\n",
       "  {'max_depth': 1.0, 'min_samples_leaf': 3600.0, 'min_samples_split': 4400.0},\n",
       "  {'max_depth': 1.0, 'min_samples_leaf': 3600.0, 'min_samples_split': 4800.0},\n",
       "  {'max_depth': 1.0, 'min_samples_leaf': 3600.0, 'min_samples_split': 5200.0},\n",
       "  {'max_depth': 1.0, 'min_samples_leaf': 3600.0, 'min_samples_split': 5600.0},\n",
       "  {'max_depth': 1.0, 'min_samples_leaf': 3600.0, 'min_samples_split': 6000.0},\n",
       "  {'max_depth': 1.0, 'min_samples_leaf': 3600.0, 'min_samples_split': 6400.0},\n",
       "  {'max_depth': 1.0, 'min_samples_leaf': 3600.0, 'min_samples_split': 6800.0},\n",
       "  {'max_depth': 1.0, 'min_samples_leaf': 3600.0, 'min_samples_split': 7200.0},\n",
       "  {'max_depth': 1.0, 'min_samples_leaf': 3600.0, 'min_samples_split': 7600.0},\n",
       "  {'max_depth': 1.0, 'min_samples_leaf': 3600.0, 'min_samples_split': 8000.0},\n",
       "  {'max_depth': 1.0, 'min_samples_leaf': 3900.0, 'min_samples_split': 0.0},\n",
       "  {'max_depth': 1.0, 'min_samples_leaf': 3900.0, 'min_samples_split': 400.0},\n",
       "  {'max_depth': 1.0, 'min_samples_leaf': 3900.0, 'min_samples_split': 800.0},\n",
       "  {'max_depth': 1.0, 'min_samples_leaf': 3900.0, 'min_samples_split': 1200.0},\n",
       "  {'max_depth': 1.0, 'min_samples_leaf': 3900.0, 'min_samples_split': 1600.0},\n",
       "  {'max_depth': 1.0, 'min_samples_leaf': 3900.0, 'min_samples_split': 2000.0},\n",
       "  {'max_depth': 1.0, 'min_samples_leaf': 3900.0, 'min_samples_split': 2400.0},\n",
       "  {'max_depth': 1.0, 'min_samples_leaf': 3900.0, 'min_samples_split': 2800.0},\n",
       "  {'max_depth': 1.0, 'min_samples_leaf': 3900.0, 'min_samples_split': 3200.0},\n",
       "  {'max_depth': 1.0, 'min_samples_leaf': 3900.0, 'min_samples_split': 3600.0},\n",
       "  {'max_depth': 1.0, 'min_samples_leaf': 3900.0, 'min_samples_split': 4000.0},\n",
       "  {'max_depth': 1.0, 'min_samples_leaf': 3900.0, 'min_samples_split': 4400.0},\n",
       "  {'max_depth': 1.0, 'min_samples_leaf': 3900.0, 'min_samples_split': 4800.0},\n",
       "  {'max_depth': 1.0, 'min_samples_leaf': 3900.0, 'min_samples_split': 5200.0},\n",
       "  {'max_depth': 1.0, 'min_samples_leaf': 3900.0, 'min_samples_split': 5600.0},\n",
       "  {'max_depth': 1.0, 'min_samples_leaf': 3900.0, 'min_samples_split': 6000.0},\n",
       "  {'max_depth': 1.0, 'min_samples_leaf': 3900.0, 'min_samples_split': 6400.0},\n",
       "  {'max_depth': 1.0, 'min_samples_leaf': 3900.0, 'min_samples_split': 6800.0},\n",
       "  {'max_depth': 1.0, 'min_samples_leaf': 3900.0, 'min_samples_split': 7200.0},\n",
       "  {'max_depth': 1.0, 'min_samples_leaf': 3900.0, 'min_samples_split': 7600.0},\n",
       "  {'max_depth': 1.0, 'min_samples_leaf': 3900.0, 'min_samples_split': 8000.0},\n",
       "  {'max_depth': 1.0, 'min_samples_leaf': 4200.0, 'min_samples_split': 0.0},\n",
       "  {'max_depth': 1.0, 'min_samples_leaf': 4200.0, 'min_samples_split': 400.0},\n",
       "  {'max_depth': 1.0, 'min_samples_leaf': 4200.0, 'min_samples_split': 800.0},\n",
       "  {'max_depth': 1.0, 'min_samples_leaf': 4200.0, 'min_samples_split': 1200.0},\n",
       "  {'max_depth': 1.0, 'min_samples_leaf': 4200.0, 'min_samples_split': 1600.0},\n",
       "  {'max_depth': 1.0, 'min_samples_leaf': 4200.0, 'min_samples_split': 2000.0},\n",
       "  {'max_depth': 1.0, 'min_samples_leaf': 4200.0, 'min_samples_split': 2400.0},\n",
       "  {'max_depth': 1.0, 'min_samples_leaf': 4200.0, 'min_samples_split': 2800.0},\n",
       "  {'max_depth': 1.0, 'min_samples_leaf': 4200.0, 'min_samples_split': 3200.0},\n",
       "  {'max_depth': 1.0, 'min_samples_leaf': 4200.0, 'min_samples_split': 3600.0},\n",
       "  {'max_depth': 1.0, 'min_samples_leaf': 4200.0, 'min_samples_split': 4000.0},\n",
       "  {'max_depth': 1.0, 'min_samples_leaf': 4200.0, 'min_samples_split': 4400.0},\n",
       "  {'max_depth': 1.0, 'min_samples_leaf': 4200.0, 'min_samples_split': 4800.0},\n",
       "  {'max_depth': 1.0, 'min_samples_leaf': 4200.0, 'min_samples_split': 5200.0},\n",
       "  {'max_depth': 1.0, 'min_samples_leaf': 4200.0, 'min_samples_split': 5600.0},\n",
       "  {'max_depth': 1.0, 'min_samples_leaf': 4200.0, 'min_samples_split': 6000.0},\n",
       "  {'max_depth': 1.0, 'min_samples_leaf': 4200.0, 'min_samples_split': 6400.0},\n",
       "  {'max_depth': 1.0, 'min_samples_leaf': 4200.0, 'min_samples_split': 6800.0},\n",
       "  {'max_depth': 1.0, 'min_samples_leaf': 4200.0, 'min_samples_split': 7200.0},\n",
       "  {'max_depth': 1.0, 'min_samples_leaf': 4200.0, 'min_samples_split': 7600.0},\n",
       "  {'max_depth': 1.0, 'min_samples_leaf': 4200.0, 'min_samples_split': 8000.0},\n",
       "  {'max_depth': 1.0, 'min_samples_leaf': 4500.0, 'min_samples_split': 0.0},\n",
       "  {'max_depth': 1.0, 'min_samples_leaf': 4500.0, 'min_samples_split': 400.0},\n",
       "  {'max_depth': 1.0, 'min_samples_leaf': 4500.0, 'min_samples_split': 800.0},\n",
       "  {'max_depth': 1.0, 'min_samples_leaf': 4500.0, 'min_samples_split': 1200.0},\n",
       "  {'max_depth': 1.0, 'min_samples_leaf': 4500.0, 'min_samples_split': 1600.0},\n",
       "  {'max_depth': 1.0, 'min_samples_leaf': 4500.0, 'min_samples_split': 2000.0},\n",
       "  {'max_depth': 1.0, 'min_samples_leaf': 4500.0, 'min_samples_split': 2400.0},\n",
       "  {'max_depth': 1.0, 'min_samples_leaf': 4500.0, 'min_samples_split': 2800.0},\n",
       "  {'max_depth': 1.0, 'min_samples_leaf': 4500.0, 'min_samples_split': 3200.0},\n",
       "  {'max_depth': 1.0, 'min_samples_leaf': 4500.0, 'min_samples_split': 3600.0},\n",
       "  {'max_depth': 1.0, 'min_samples_leaf': 4500.0, 'min_samples_split': 4000.0},\n",
       "  {'max_depth': 1.0, 'min_samples_leaf': 4500.0, 'min_samples_split': 4400.0},\n",
       "  {'max_depth': 1.0, 'min_samples_leaf': 4500.0, 'min_samples_split': 4800.0},\n",
       "  {'max_depth': 1.0, 'min_samples_leaf': 4500.0, 'min_samples_split': 5200.0},\n",
       "  {'max_depth': 1.0, 'min_samples_leaf': 4500.0, 'min_samples_split': 5600.0},\n",
       "  {'max_depth': 1.0, 'min_samples_leaf': 4500.0, 'min_samples_split': 6000.0},\n",
       "  {'max_depth': 1.0, 'min_samples_leaf': 4500.0, 'min_samples_split': 6400.0},\n",
       "  {'max_depth': 1.0, 'min_samples_leaf': 4500.0, 'min_samples_split': 6800.0},\n",
       "  {'max_depth': 1.0, 'min_samples_leaf': 4500.0, 'min_samples_split': 7200.0},\n",
       "  {'max_depth': 1.0, 'min_samples_leaf': 4500.0, 'min_samples_split': 7600.0},\n",
       "  {'max_depth': 1.0, 'min_samples_leaf': 4500.0, 'min_samples_split': 8000.0},\n",
       "  {'max_depth': 1.0, 'min_samples_leaf': 4800.0, 'min_samples_split': 0.0},\n",
       "  {'max_depth': 1.0, 'min_samples_leaf': 4800.0, 'min_samples_split': 400.0},\n",
       "  {'max_depth': 1.0, 'min_samples_leaf': 4800.0, 'min_samples_split': 800.0},\n",
       "  {'max_depth': 1.0, 'min_samples_leaf': 4800.0, 'min_samples_split': 1200.0},\n",
       "  {'max_depth': 1.0, 'min_samples_leaf': 4800.0, 'min_samples_split': 1600.0},\n",
       "  {'max_depth': 1.0, 'min_samples_leaf': 4800.0, 'min_samples_split': 2000.0},\n",
       "  {'max_depth': 1.0, 'min_samples_leaf': 4800.0, 'min_samples_split': 2400.0},\n",
       "  {'max_depth': 1.0, 'min_samples_leaf': 4800.0, 'min_samples_split': 2800.0},\n",
       "  {'max_depth': 1.0, 'min_samples_leaf': 4800.0, 'min_samples_split': 3200.0},\n",
       "  {'max_depth': 1.0, 'min_samples_leaf': 4800.0, 'min_samples_split': 3600.0},\n",
       "  {'max_depth': 1.0, 'min_samples_leaf': 4800.0, 'min_samples_split': 4000.0},\n",
       "  {'max_depth': 1.0, 'min_samples_leaf': 4800.0, 'min_samples_split': 4400.0},\n",
       "  {'max_depth': 1.0, 'min_samples_leaf': 4800.0, 'min_samples_split': 4800.0},\n",
       "  {'max_depth': 1.0, 'min_samples_leaf': 4800.0, 'min_samples_split': 5200.0},\n",
       "  {'max_depth': 1.0, 'min_samples_leaf': 4800.0, 'min_samples_split': 5600.0},\n",
       "  {'max_depth': 1.0, 'min_samples_leaf': 4800.0, 'min_samples_split': 6000.0},\n",
       "  {'max_depth': 1.0, 'min_samples_leaf': 4800.0, 'min_samples_split': 6400.0},\n",
       "  {'max_depth': 1.0, 'min_samples_leaf': 4800.0, 'min_samples_split': 6800.0},\n",
       "  {'max_depth': 1.0, 'min_samples_leaf': 4800.0, 'min_samples_split': 7200.0},\n",
       "  {'max_depth': 1.0, 'min_samples_leaf': 4800.0, 'min_samples_split': 7600.0},\n",
       "  {'max_depth': 1.0, 'min_samples_leaf': 4800.0, 'min_samples_split': 8000.0},\n",
       "  {'max_depth': 1.0, 'min_samples_leaf': 5100.0, 'min_samples_split': 0.0},\n",
       "  {'max_depth': 1.0, 'min_samples_leaf': 5100.0, 'min_samples_split': 400.0},\n",
       "  {'max_depth': 1.0, 'min_samples_leaf': 5100.0, 'min_samples_split': 800.0},\n",
       "  {'max_depth': 1.0, 'min_samples_leaf': 5100.0, 'min_samples_split': 1200.0},\n",
       "  {'max_depth': 1.0, 'min_samples_leaf': 5100.0, 'min_samples_split': 1600.0},\n",
       "  {'max_depth': 1.0, 'min_samples_leaf': 5100.0, 'min_samples_split': 2000.0},\n",
       "  {'max_depth': 1.0, 'min_samples_leaf': 5100.0, 'min_samples_split': 2400.0},\n",
       "  {'max_depth': 1.0, 'min_samples_leaf': 5100.0, 'min_samples_split': 2800.0},\n",
       "  {'max_depth': 1.0, 'min_samples_leaf': 5100.0, 'min_samples_split': 3200.0},\n",
       "  {'max_depth': 1.0, 'min_samples_leaf': 5100.0, 'min_samples_split': 3600.0},\n",
       "  {'max_depth': 1.0, 'min_samples_leaf': 5100.0, 'min_samples_split': 4000.0},\n",
       "  {'max_depth': 1.0, 'min_samples_leaf': 5100.0, 'min_samples_split': 4400.0},\n",
       "  {'max_depth': 1.0, 'min_samples_leaf': 5100.0, 'min_samples_split': 4800.0},\n",
       "  {'max_depth': 1.0, 'min_samples_leaf': 5100.0, 'min_samples_split': 5200.0},\n",
       "  {'max_depth': 1.0, 'min_samples_leaf': 5100.0, 'min_samples_split': 5600.0},\n",
       "  {'max_depth': 1.0, 'min_samples_leaf': 5100.0, 'min_samples_split': 6000.0},\n",
       "  {'max_depth': 1.0, 'min_samples_leaf': 5100.0, 'min_samples_split': 6400.0},\n",
       "  {'max_depth': 1.0, 'min_samples_leaf': 5100.0, 'min_samples_split': 6800.0},\n",
       "  {'max_depth': 1.0, 'min_samples_leaf': 5100.0, 'min_samples_split': 7200.0},\n",
       "  {'max_depth': 1.0, 'min_samples_leaf': 5100.0, 'min_samples_split': 7600.0},\n",
       "  {'max_depth': 1.0, 'min_samples_leaf': 5100.0, 'min_samples_split': 8000.0},\n",
       "  {'max_depth': 1.0, 'min_samples_leaf': 5400.0, 'min_samples_split': 0.0},\n",
       "  {'max_depth': 1.0, 'min_samples_leaf': 5400.0, 'min_samples_split': 400.0},\n",
       "  {'max_depth': 1.0, 'min_samples_leaf': 5400.0, 'min_samples_split': 800.0},\n",
       "  {'max_depth': 1.0, 'min_samples_leaf': 5400.0, 'min_samples_split': 1200.0},\n",
       "  {'max_depth': 1.0, 'min_samples_leaf': 5400.0, 'min_samples_split': 1600.0},\n",
       "  {'max_depth': 1.0, 'min_samples_leaf': 5400.0, 'min_samples_split': 2000.0},\n",
       "  {'max_depth': 1.0, 'min_samples_leaf': 5400.0, 'min_samples_split': 2400.0},\n",
       "  {'max_depth': 1.0, 'min_samples_leaf': 5400.0, 'min_samples_split': 2800.0},\n",
       "  {'max_depth': 1.0, 'min_samples_leaf': 5400.0, 'min_samples_split': 3200.0},\n",
       "  {'max_depth': 1.0, 'min_samples_leaf': 5400.0, 'min_samples_split': 3600.0},\n",
       "  {'max_depth': 1.0, 'min_samples_leaf': 5400.0, 'min_samples_split': 4000.0},\n",
       "  {'max_depth': 1.0, 'min_samples_leaf': 5400.0, 'min_samples_split': 4400.0},\n",
       "  {'max_depth': 1.0, 'min_samples_leaf': 5400.0, 'min_samples_split': 4800.0},\n",
       "  {'max_depth': 1.0, 'min_samples_leaf': 5400.0, 'min_samples_split': 5200.0},\n",
       "  {'max_depth': 1.0, 'min_samples_leaf': 5400.0, 'min_samples_split': 5600.0},\n",
       "  {'max_depth': 1.0, 'min_samples_leaf': 5400.0, 'min_samples_split': 6000.0},\n",
       "  {'max_depth': 1.0, 'min_samples_leaf': 5400.0, 'min_samples_split': 6400.0},\n",
       "  {'max_depth': 1.0, 'min_samples_leaf': 5400.0, 'min_samples_split': 6800.0},\n",
       "  {'max_depth': 1.0, 'min_samples_leaf': 5400.0, 'min_samples_split': 7200.0},\n",
       "  {'max_depth': 1.0, 'min_samples_leaf': 5400.0, 'min_samples_split': 7600.0},\n",
       "  {'max_depth': 1.0, 'min_samples_leaf': 5400.0, 'min_samples_split': 8000.0},\n",
       "  {'max_depth': 1.0, 'min_samples_leaf': 5700.0, 'min_samples_split': 0.0},\n",
       "  {'max_depth': 1.0, 'min_samples_leaf': 5700.0, 'min_samples_split': 400.0},\n",
       "  {'max_depth': 1.0, 'min_samples_leaf': 5700.0, 'min_samples_split': 800.0},\n",
       "  {'max_depth': 1.0, 'min_samples_leaf': 5700.0, 'min_samples_split': 1200.0},\n",
       "  {'max_depth': 1.0, 'min_samples_leaf': 5700.0, 'min_samples_split': 1600.0},\n",
       "  {'max_depth': 1.0, 'min_samples_leaf': 5700.0, 'min_samples_split': 2000.0},\n",
       "  {'max_depth': 1.0, 'min_samples_leaf': 5700.0, 'min_samples_split': 2400.0},\n",
       "  {'max_depth': 1.0, 'min_samples_leaf': 5700.0, 'min_samples_split': 2800.0},\n",
       "  {'max_depth': 1.0, 'min_samples_leaf': 5700.0, 'min_samples_split': 3200.0},\n",
       "  {'max_depth': 1.0, 'min_samples_leaf': 5700.0, 'min_samples_split': 3600.0},\n",
       "  {'max_depth': 1.0, 'min_samples_leaf': 5700.0, 'min_samples_split': 4000.0},\n",
       "  {'max_depth': 1.0, 'min_samples_leaf': 5700.0, 'min_samples_split': 4400.0},\n",
       "  {'max_depth': 1.0, 'min_samples_leaf': 5700.0, 'min_samples_split': 4800.0},\n",
       "  {'max_depth': 1.0, 'min_samples_leaf': 5700.0, 'min_samples_split': 5200.0},\n",
       "  {'max_depth': 1.0, 'min_samples_leaf': 5700.0, 'min_samples_split': 5600.0},\n",
       "  {'max_depth': 1.0, 'min_samples_leaf': 5700.0, 'min_samples_split': 6000.0},\n",
       "  {'max_depth': 1.0, 'min_samples_leaf': 5700.0, 'min_samples_split': 6400.0},\n",
       "  {'max_depth': 1.0, 'min_samples_leaf': 5700.0, 'min_samples_split': 6800.0},\n",
       "  {'max_depth': 1.0, 'min_samples_leaf': 5700.0, 'min_samples_split': 7200.0},\n",
       "  {'max_depth': 1.0, 'min_samples_leaf': 5700.0, 'min_samples_split': 7600.0},\n",
       "  {'max_depth': 1.0, 'min_samples_leaf': 5700.0, 'min_samples_split': 8000.0},\n",
       "  {'max_depth': 1.0, 'min_samples_leaf': 6000.0, 'min_samples_split': 0.0},\n",
       "  {'max_depth': 1.0, 'min_samples_leaf': 6000.0, 'min_samples_split': 400.0},\n",
       "  {'max_depth': 1.0, 'min_samples_leaf': 6000.0, 'min_samples_split': 800.0},\n",
       "  {'max_depth': 1.0, 'min_samples_leaf': 6000.0, 'min_samples_split': 1200.0},\n",
       "  {'max_depth': 1.0, 'min_samples_leaf': 6000.0, 'min_samples_split': 1600.0},\n",
       "  {'max_depth': 1.0, 'min_samples_leaf': 6000.0, 'min_samples_split': 2000.0},\n",
       "  {'max_depth': 1.0, 'min_samples_leaf': 6000.0, 'min_samples_split': 2400.0},\n",
       "  {'max_depth': 1.0, 'min_samples_leaf': 6000.0, 'min_samples_split': 2800.0},\n",
       "  {'max_depth': 1.0, 'min_samples_leaf': 6000.0, 'min_samples_split': 3200.0},\n",
       "  {'max_depth': 1.0, 'min_samples_leaf': 6000.0, 'min_samples_split': 3600.0},\n",
       "  {'max_depth': 1.0, 'min_samples_leaf': 6000.0, 'min_samples_split': 4000.0},\n",
       "  {'max_depth': 1.0, 'min_samples_leaf': 6000.0, 'min_samples_split': 4400.0},\n",
       "  {'max_depth': 1.0, 'min_samples_leaf': 6000.0, 'min_samples_split': 4800.0},\n",
       "  {'max_depth': 1.0, 'min_samples_leaf': 6000.0, 'min_samples_split': 5200.0},\n",
       "  {'max_depth': 1.0, 'min_samples_leaf': 6000.0, 'min_samples_split': 5600.0},\n",
       "  {'max_depth': 1.0, 'min_samples_leaf': 6000.0, 'min_samples_split': 6000.0},\n",
       "  {'max_depth': 1.0, 'min_samples_leaf': 6000.0, 'min_samples_split': 6400.0},\n",
       "  {'max_depth': 1.0, 'min_samples_leaf': 6000.0, 'min_samples_split': 6800.0},\n",
       "  {'max_depth': 1.0, 'min_samples_leaf': 6000.0, 'min_samples_split': 7200.0},\n",
       "  {'max_depth': 1.0, 'min_samples_leaf': 6000.0, 'min_samples_split': 7600.0},\n",
       "  {'max_depth': 1.0, 'min_samples_leaf': 6000.0, 'min_samples_split': 8000.0},\n",
       "  {'max_depth': 2.0, 'min_samples_leaf': 0.0, 'min_samples_split': 0.0},\n",
       "  {'max_depth': 2.0, 'min_samples_leaf': 0.0, 'min_samples_split': 400.0},\n",
       "  {'max_depth': 2.0, 'min_samples_leaf': 0.0, 'min_samples_split': 800.0},\n",
       "  {'max_depth': 2.0, 'min_samples_leaf': 0.0, 'min_samples_split': 1200.0},\n",
       "  {'max_depth': 2.0, 'min_samples_leaf': 0.0, 'min_samples_split': 1600.0},\n",
       "  {'max_depth': 2.0, 'min_samples_leaf': 0.0, 'min_samples_split': 2000.0},\n",
       "  {'max_depth': 2.0, 'min_samples_leaf': 0.0, 'min_samples_split': 2400.0},\n",
       "  {'max_depth': 2.0, 'min_samples_leaf': 0.0, 'min_samples_split': 2800.0},\n",
       "  {'max_depth': 2.0, 'min_samples_leaf': 0.0, 'min_samples_split': 3200.0},\n",
       "  {'max_depth': 2.0, 'min_samples_leaf': 0.0, 'min_samples_split': 3600.0},\n",
       "  {'max_depth': 2.0, 'min_samples_leaf': 0.0, 'min_samples_split': 4000.0},\n",
       "  {'max_depth': 2.0, 'min_samples_leaf': 0.0, 'min_samples_split': 4400.0},\n",
       "  {'max_depth': 2.0, 'min_samples_leaf': 0.0, 'min_samples_split': 4800.0},\n",
       "  {'max_depth': 2.0, 'min_samples_leaf': 0.0, 'min_samples_split': 5200.0},\n",
       "  {'max_depth': 2.0, 'min_samples_leaf': 0.0, 'min_samples_split': 5600.0},\n",
       "  {'max_depth': 2.0, 'min_samples_leaf': 0.0, 'min_samples_split': 6000.0},\n",
       "  {'max_depth': 2.0, 'min_samples_leaf': 0.0, 'min_samples_split': 6400.0},\n",
       "  {'max_depth': 2.0, 'min_samples_leaf': 0.0, 'min_samples_split': 6800.0},\n",
       "  {'max_depth': 2.0, 'min_samples_leaf': 0.0, 'min_samples_split': 7200.0},\n",
       "  {'max_depth': 2.0, 'min_samples_leaf': 0.0, 'min_samples_split': 7600.0},\n",
       "  {'max_depth': 2.0, 'min_samples_leaf': 0.0, 'min_samples_split': 8000.0},\n",
       "  {'max_depth': 2.0, 'min_samples_leaf': 300.0, 'min_samples_split': 0.0},\n",
       "  {'max_depth': 2.0, 'min_samples_leaf': 300.0, 'min_samples_split': 400.0},\n",
       "  {'max_depth': 2.0, 'min_samples_leaf': 300.0, 'min_samples_split': 800.0},\n",
       "  {'max_depth': 2.0, 'min_samples_leaf': 300.0, 'min_samples_split': 1200.0},\n",
       "  {'max_depth': 2.0, 'min_samples_leaf': 300.0, 'min_samples_split': 1600.0},\n",
       "  {'max_depth': 2.0, 'min_samples_leaf': 300.0, 'min_samples_split': 2000.0},\n",
       "  {'max_depth': 2.0, 'min_samples_leaf': 300.0, 'min_samples_split': 2400.0},\n",
       "  {'max_depth': 2.0, 'min_samples_leaf': 300.0, 'min_samples_split': 2800.0},\n",
       "  {'max_depth': 2.0, 'min_samples_leaf': 300.0, 'min_samples_split': 3200.0},\n",
       "  {'max_depth': 2.0, 'min_samples_leaf': 300.0, 'min_samples_split': 3600.0},\n",
       "  {'max_depth': 2.0, 'min_samples_leaf': 300.0, 'min_samples_split': 4000.0},\n",
       "  {'max_depth': 2.0, 'min_samples_leaf': 300.0, 'min_samples_split': 4400.0},\n",
       "  {'max_depth': 2.0, 'min_samples_leaf': 300.0, 'min_samples_split': 4800.0},\n",
       "  {'max_depth': 2.0, 'min_samples_leaf': 300.0, 'min_samples_split': 5200.0},\n",
       "  {'max_depth': 2.0, 'min_samples_leaf': 300.0, 'min_samples_split': 5600.0},\n",
       "  {'max_depth': 2.0, 'min_samples_leaf': 300.0, 'min_samples_split': 6000.0},\n",
       "  {'max_depth': 2.0, 'min_samples_leaf': 300.0, 'min_samples_split': 6400.0},\n",
       "  {'max_depth': 2.0, 'min_samples_leaf': 300.0, 'min_samples_split': 6800.0},\n",
       "  {'max_depth': 2.0, 'min_samples_leaf': 300.0, 'min_samples_split': 7200.0},\n",
       "  {'max_depth': 2.0, 'min_samples_leaf': 300.0, 'min_samples_split': 7600.0},\n",
       "  {'max_depth': 2.0, 'min_samples_leaf': 300.0, 'min_samples_split': 8000.0},\n",
       "  {'max_depth': 2.0, 'min_samples_leaf': 600.0, 'min_samples_split': 0.0},\n",
       "  {'max_depth': 2.0, 'min_samples_leaf': 600.0, 'min_samples_split': 400.0},\n",
       "  {'max_depth': 2.0, 'min_samples_leaf': 600.0, 'min_samples_split': 800.0},\n",
       "  {'max_depth': 2.0, 'min_samples_leaf': 600.0, 'min_samples_split': 1200.0},\n",
       "  {'max_depth': 2.0, 'min_samples_leaf': 600.0, 'min_samples_split': 1600.0},\n",
       "  {'max_depth': 2.0, 'min_samples_leaf': 600.0, 'min_samples_split': 2000.0},\n",
       "  {'max_depth': 2.0, 'min_samples_leaf': 600.0, 'min_samples_split': 2400.0},\n",
       "  {'max_depth': 2.0, 'min_samples_leaf': 600.0, 'min_samples_split': 2800.0},\n",
       "  {'max_depth': 2.0, 'min_samples_leaf': 600.0, 'min_samples_split': 3200.0},\n",
       "  {'max_depth': 2.0, 'min_samples_leaf': 600.0, 'min_samples_split': 3600.0},\n",
       "  {'max_depth': 2.0, 'min_samples_leaf': 600.0, 'min_samples_split': 4000.0},\n",
       "  {'max_depth': 2.0, 'min_samples_leaf': 600.0, 'min_samples_split': 4400.0},\n",
       "  {'max_depth': 2.0, 'min_samples_leaf': 600.0, 'min_samples_split': 4800.0},\n",
       "  {'max_depth': 2.0, 'min_samples_leaf': 600.0, 'min_samples_split': 5200.0},\n",
       "  {'max_depth': 2.0, 'min_samples_leaf': 600.0, 'min_samples_split': 5600.0},\n",
       "  {'max_depth': 2.0, 'min_samples_leaf': 600.0, 'min_samples_split': 6000.0},\n",
       "  {'max_depth': 2.0, 'min_samples_leaf': 600.0, 'min_samples_split': 6400.0},\n",
       "  {'max_depth': 2.0, 'min_samples_leaf': 600.0, 'min_samples_split': 6800.0},\n",
       "  {'max_depth': 2.0, 'min_samples_leaf': 600.0, 'min_samples_split': 7200.0},\n",
       "  {'max_depth': 2.0, 'min_samples_leaf': 600.0, 'min_samples_split': 7600.0},\n",
       "  {'max_depth': 2.0, 'min_samples_leaf': 600.0, 'min_samples_split': 8000.0},\n",
       "  {'max_depth': 2.0, 'min_samples_leaf': 900.0, 'min_samples_split': 0.0},\n",
       "  {'max_depth': 2.0, 'min_samples_leaf': 900.0, 'min_samples_split': 400.0},\n",
       "  {'max_depth': 2.0, 'min_samples_leaf': 900.0, 'min_samples_split': 800.0},\n",
       "  {'max_depth': 2.0, 'min_samples_leaf': 900.0, 'min_samples_split': 1200.0},\n",
       "  {'max_depth': 2.0, 'min_samples_leaf': 900.0, 'min_samples_split': 1600.0},\n",
       "  {'max_depth': 2.0, 'min_samples_leaf': 900.0, 'min_samples_split': 2000.0},\n",
       "  {'max_depth': 2.0, 'min_samples_leaf': 900.0, 'min_samples_split': 2400.0},\n",
       "  {'max_depth': 2.0, 'min_samples_leaf': 900.0, 'min_samples_split': 2800.0},\n",
       "  {'max_depth': 2.0, 'min_samples_leaf': 900.0, 'min_samples_split': 3200.0},\n",
       "  {'max_depth': 2.0, 'min_samples_leaf': 900.0, 'min_samples_split': 3600.0},\n",
       "  {'max_depth': 2.0, 'min_samples_leaf': 900.0, 'min_samples_split': 4000.0},\n",
       "  {'max_depth': 2.0, 'min_samples_leaf': 900.0, 'min_samples_split': 4400.0},\n",
       "  {'max_depth': 2.0, 'min_samples_leaf': 900.0, 'min_samples_split': 4800.0},\n",
       "  {'max_depth': 2.0, 'min_samples_leaf': 900.0, 'min_samples_split': 5200.0},\n",
       "  {'max_depth': 2.0, 'min_samples_leaf': 900.0, 'min_samples_split': 5600.0},\n",
       "  {'max_depth': 2.0, 'min_samples_leaf': 900.0, 'min_samples_split': 6000.0},\n",
       "  {'max_depth': 2.0, 'min_samples_leaf': 900.0, 'min_samples_split': 6400.0},\n",
       "  {'max_depth': 2.0, 'min_samples_leaf': 900.0, 'min_samples_split': 6800.0},\n",
       "  {'max_depth': 2.0, 'min_samples_leaf': 900.0, 'min_samples_split': 7200.0},\n",
       "  {'max_depth': 2.0, 'min_samples_leaf': 900.0, 'min_samples_split': 7600.0},\n",
       "  {'max_depth': 2.0, 'min_samples_leaf': 900.0, 'min_samples_split': 8000.0},\n",
       "  {'max_depth': 2.0, 'min_samples_leaf': 1200.0, 'min_samples_split': 0.0},\n",
       "  {'max_depth': 2.0, 'min_samples_leaf': 1200.0, 'min_samples_split': 400.0},\n",
       "  {'max_depth': 2.0, 'min_samples_leaf': 1200.0, 'min_samples_split': 800.0},\n",
       "  {'max_depth': 2.0, 'min_samples_leaf': 1200.0, 'min_samples_split': 1200.0},\n",
       "  {'max_depth': 2.0, 'min_samples_leaf': 1200.0, 'min_samples_split': 1600.0},\n",
       "  {'max_depth': 2.0, 'min_samples_leaf': 1200.0, 'min_samples_split': 2000.0},\n",
       "  {'max_depth': 2.0, 'min_samples_leaf': 1200.0, 'min_samples_split': 2400.0},\n",
       "  {'max_depth': 2.0, 'min_samples_leaf': 1200.0, 'min_samples_split': 2800.0},\n",
       "  {'max_depth': 2.0, 'min_samples_leaf': 1200.0, 'min_samples_split': 3200.0},\n",
       "  {'max_depth': 2.0, 'min_samples_leaf': 1200.0, 'min_samples_split': 3600.0},\n",
       "  {'max_depth': 2.0, 'min_samples_leaf': 1200.0, 'min_samples_split': 4000.0},\n",
       "  {'max_depth': 2.0, 'min_samples_leaf': 1200.0, 'min_samples_split': 4400.0},\n",
       "  {'max_depth': 2.0, 'min_samples_leaf': 1200.0, 'min_samples_split': 4800.0},\n",
       "  {'max_depth': 2.0, 'min_samples_leaf': 1200.0, 'min_samples_split': 5200.0},\n",
       "  {'max_depth': 2.0, 'min_samples_leaf': 1200.0, 'min_samples_split': 5600.0},\n",
       "  {'max_depth': 2.0, 'min_samples_leaf': 1200.0, 'min_samples_split': 6000.0},\n",
       "  {'max_depth': 2.0, 'min_samples_leaf': 1200.0, 'min_samples_split': 6400.0},\n",
       "  {'max_depth': 2.0, 'min_samples_leaf': 1200.0, 'min_samples_split': 6800.0},\n",
       "  {'max_depth': 2.0, 'min_samples_leaf': 1200.0, 'min_samples_split': 7200.0},\n",
       "  {'max_depth': 2.0, 'min_samples_leaf': 1200.0, 'min_samples_split': 7600.0},\n",
       "  {'max_depth': 2.0, 'min_samples_leaf': 1200.0, 'min_samples_split': 8000.0},\n",
       "  {'max_depth': 2.0, 'min_samples_leaf': 1500.0, 'min_samples_split': 0.0},\n",
       "  {'max_depth': 2.0, 'min_samples_leaf': 1500.0, 'min_samples_split': 400.0},\n",
       "  {'max_depth': 2.0, 'min_samples_leaf': 1500.0, 'min_samples_split': 800.0},\n",
       "  {'max_depth': 2.0, 'min_samples_leaf': 1500.0, 'min_samples_split': 1200.0},\n",
       "  {'max_depth': 2.0, 'min_samples_leaf': 1500.0, 'min_samples_split': 1600.0},\n",
       "  {'max_depth': 2.0, 'min_samples_leaf': 1500.0, 'min_samples_split': 2000.0},\n",
       "  {'max_depth': 2.0, 'min_samples_leaf': 1500.0, 'min_samples_split': 2400.0},\n",
       "  {'max_depth': 2.0, 'min_samples_leaf': 1500.0, 'min_samples_split': 2800.0},\n",
       "  {'max_depth': 2.0, 'min_samples_leaf': 1500.0, 'min_samples_split': 3200.0},\n",
       "  {'max_depth': 2.0, 'min_samples_leaf': 1500.0, 'min_samples_split': 3600.0},\n",
       "  {'max_depth': 2.0, 'min_samples_leaf': 1500.0, 'min_samples_split': 4000.0},\n",
       "  {'max_depth': 2.0, 'min_samples_leaf': 1500.0, 'min_samples_split': 4400.0},\n",
       "  {'max_depth': 2.0, 'min_samples_leaf': 1500.0, 'min_samples_split': 4800.0},\n",
       "  {'max_depth': 2.0, 'min_samples_leaf': 1500.0, 'min_samples_split': 5200.0},\n",
       "  {'max_depth': 2.0, 'min_samples_leaf': 1500.0, 'min_samples_split': 5600.0},\n",
       "  {'max_depth': 2.0, 'min_samples_leaf': 1500.0, 'min_samples_split': 6000.0},\n",
       "  {'max_depth': 2.0, 'min_samples_leaf': 1500.0, 'min_samples_split': 6400.0},\n",
       "  {'max_depth': 2.0, 'min_samples_leaf': 1500.0, 'min_samples_split': 6800.0},\n",
       "  {'max_depth': 2.0, 'min_samples_leaf': 1500.0, 'min_samples_split': 7200.0},\n",
       "  {'max_depth': 2.0, 'min_samples_leaf': 1500.0, 'min_samples_split': 7600.0},\n",
       "  {'max_depth': 2.0, 'min_samples_leaf': 1500.0, 'min_samples_split': 8000.0},\n",
       "  {'max_depth': 2.0, 'min_samples_leaf': 1800.0, 'min_samples_split': 0.0},\n",
       "  {'max_depth': 2.0, 'min_samples_leaf': 1800.0, 'min_samples_split': 400.0},\n",
       "  {'max_depth': 2.0, 'min_samples_leaf': 1800.0, 'min_samples_split': 800.0},\n",
       "  {'max_depth': 2.0, 'min_samples_leaf': 1800.0, 'min_samples_split': 1200.0},\n",
       "  {'max_depth': 2.0, 'min_samples_leaf': 1800.0, 'min_samples_split': 1600.0},\n",
       "  {'max_depth': 2.0, 'min_samples_leaf': 1800.0, 'min_samples_split': 2000.0},\n",
       "  {'max_depth': 2.0, 'min_samples_leaf': 1800.0, 'min_samples_split': 2400.0},\n",
       "  {'max_depth': 2.0, 'min_samples_leaf': 1800.0, 'min_samples_split': 2800.0},\n",
       "  {'max_depth': 2.0, 'min_samples_leaf': 1800.0, 'min_samples_split': 3200.0},\n",
       "  {'max_depth': 2.0, 'min_samples_leaf': 1800.0, 'min_samples_split': 3600.0},\n",
       "  {'max_depth': 2.0, 'min_samples_leaf': 1800.0, 'min_samples_split': 4000.0},\n",
       "  {'max_depth': 2.0, 'min_samples_leaf': 1800.0, 'min_samples_split': 4400.0},\n",
       "  {'max_depth': 2.0, 'min_samples_leaf': 1800.0, 'min_samples_split': 4800.0},\n",
       "  {'max_depth': 2.0, 'min_samples_leaf': 1800.0, 'min_samples_split': 5200.0},\n",
       "  {'max_depth': 2.0, 'min_samples_leaf': 1800.0, 'min_samples_split': 5600.0},\n",
       "  {'max_depth': 2.0, 'min_samples_leaf': 1800.0, 'min_samples_split': 6000.0},\n",
       "  {'max_depth': 2.0, 'min_samples_leaf': 1800.0, 'min_samples_split': 6400.0},\n",
       "  {'max_depth': 2.0, 'min_samples_leaf': 1800.0, 'min_samples_split': 6800.0},\n",
       "  {'max_depth': 2.0, 'min_samples_leaf': 1800.0, 'min_samples_split': 7200.0},\n",
       "  {'max_depth': 2.0, 'min_samples_leaf': 1800.0, 'min_samples_split': 7600.0},\n",
       "  {'max_depth': 2.0, 'min_samples_leaf': 1800.0, 'min_samples_split': 8000.0},\n",
       "  {'max_depth': 2.0, 'min_samples_leaf': 2100.0, 'min_samples_split': 0.0},\n",
       "  {'max_depth': 2.0, 'min_samples_leaf': 2100.0, 'min_samples_split': 400.0},\n",
       "  {'max_depth': 2.0, 'min_samples_leaf': 2100.0, 'min_samples_split': 800.0},\n",
       "  {'max_depth': 2.0, 'min_samples_leaf': 2100.0, 'min_samples_split': 1200.0},\n",
       "  {'max_depth': 2.0, 'min_samples_leaf': 2100.0, 'min_samples_split': 1600.0},\n",
       "  {'max_depth': 2.0, 'min_samples_leaf': 2100.0, 'min_samples_split': 2000.0},\n",
       "  {'max_depth': 2.0, 'min_samples_leaf': 2100.0, 'min_samples_split': 2400.0},\n",
       "  {'max_depth': 2.0, 'min_samples_leaf': 2100.0, 'min_samples_split': 2800.0},\n",
       "  {'max_depth': 2.0, 'min_samples_leaf': 2100.0, 'min_samples_split': 3200.0},\n",
       "  {'max_depth': 2.0, 'min_samples_leaf': 2100.0, 'min_samples_split': 3600.0},\n",
       "  {'max_depth': 2.0, 'min_samples_leaf': 2100.0, 'min_samples_split': 4000.0},\n",
       "  {'max_depth': 2.0, 'min_samples_leaf': 2100.0, 'min_samples_split': 4400.0},\n",
       "  {'max_depth': 2.0, 'min_samples_leaf': 2100.0, 'min_samples_split': 4800.0},\n",
       "  {'max_depth': 2.0, 'min_samples_leaf': 2100.0, 'min_samples_split': 5200.0},\n",
       "  {'max_depth': 2.0, 'min_samples_leaf': 2100.0, 'min_samples_split': 5600.0},\n",
       "  {'max_depth': 2.0, 'min_samples_leaf': 2100.0, 'min_samples_split': 6000.0},\n",
       "  {'max_depth': 2.0, 'min_samples_leaf': 2100.0, 'min_samples_split': 6400.0},\n",
       "  {'max_depth': 2.0, 'min_samples_leaf': 2100.0, 'min_samples_split': 6800.0},\n",
       "  {'max_depth': 2.0, 'min_samples_leaf': 2100.0, 'min_samples_split': 7200.0},\n",
       "  {'max_depth': 2.0, 'min_samples_leaf': 2100.0, 'min_samples_split': 7600.0},\n",
       "  {'max_depth': 2.0, 'min_samples_leaf': 2100.0, 'min_samples_split': 8000.0},\n",
       "  {'max_depth': 2.0, 'min_samples_leaf': 2400.0, 'min_samples_split': 0.0},\n",
       "  {'max_depth': 2.0, 'min_samples_leaf': 2400.0, 'min_samples_split': 400.0},\n",
       "  {'max_depth': 2.0, 'min_samples_leaf': 2400.0, 'min_samples_split': 800.0},\n",
       "  {'max_depth': 2.0, 'min_samples_leaf': 2400.0, 'min_samples_split': 1200.0},\n",
       "  {'max_depth': 2.0, 'min_samples_leaf': 2400.0, 'min_samples_split': 1600.0},\n",
       "  {'max_depth': 2.0, 'min_samples_leaf': 2400.0, 'min_samples_split': 2000.0},\n",
       "  {'max_depth': 2.0, 'min_samples_leaf': 2400.0, 'min_samples_split': 2400.0},\n",
       "  {'max_depth': 2.0, 'min_samples_leaf': 2400.0, 'min_samples_split': 2800.0},\n",
       "  {'max_depth': 2.0, 'min_samples_leaf': 2400.0, 'min_samples_split': 3200.0},\n",
       "  {'max_depth': 2.0, 'min_samples_leaf': 2400.0, 'min_samples_split': 3600.0},\n",
       "  {'max_depth': 2.0, 'min_samples_leaf': 2400.0, 'min_samples_split': 4000.0},\n",
       "  {'max_depth': 2.0, 'min_samples_leaf': 2400.0, 'min_samples_split': 4400.0},\n",
       "  {'max_depth': 2.0, 'min_samples_leaf': 2400.0, 'min_samples_split': 4800.0},\n",
       "  {'max_depth': 2.0, 'min_samples_leaf': 2400.0, 'min_samples_split': 5200.0},\n",
       "  {'max_depth': 2.0, 'min_samples_leaf': 2400.0, 'min_samples_split': 5600.0},\n",
       "  {'max_depth': 2.0, 'min_samples_leaf': 2400.0, 'min_samples_split': 6000.0},\n",
       "  {'max_depth': 2.0, 'min_samples_leaf': 2400.0, 'min_samples_split': 6400.0},\n",
       "  {'max_depth': 2.0, 'min_samples_leaf': 2400.0, 'min_samples_split': 6800.0},\n",
       "  {'max_depth': 2.0, 'min_samples_leaf': 2400.0, 'min_samples_split': 7200.0},\n",
       "  {'max_depth': 2.0, 'min_samples_leaf': 2400.0, 'min_samples_split': 7600.0},\n",
       "  {'max_depth': 2.0, 'min_samples_leaf': 2400.0, 'min_samples_split': 8000.0},\n",
       "  {'max_depth': 2.0, 'min_samples_leaf': 2700.0, 'min_samples_split': 0.0},\n",
       "  {'max_depth': 2.0, 'min_samples_leaf': 2700.0, 'min_samples_split': 400.0},\n",
       "  {'max_depth': 2.0, 'min_samples_leaf': 2700.0, 'min_samples_split': 800.0},\n",
       "  {'max_depth': 2.0, 'min_samples_leaf': 2700.0, 'min_samples_split': 1200.0},\n",
       "  {'max_depth': 2.0, 'min_samples_leaf': 2700.0, 'min_samples_split': 1600.0},\n",
       "  {'max_depth': 2.0, 'min_samples_leaf': 2700.0, 'min_samples_split': 2000.0},\n",
       "  {'max_depth': 2.0, 'min_samples_leaf': 2700.0, 'min_samples_split': 2400.0},\n",
       "  {'max_depth': 2.0, 'min_samples_leaf': 2700.0, 'min_samples_split': 2800.0},\n",
       "  {'max_depth': 2.0, 'min_samples_leaf': 2700.0, 'min_samples_split': 3200.0},\n",
       "  {'max_depth': 2.0, 'min_samples_leaf': 2700.0, 'min_samples_split': 3600.0},\n",
       "  {'max_depth': 2.0, 'min_samples_leaf': 2700.0, 'min_samples_split': 4000.0},\n",
       "  {'max_depth': 2.0, 'min_samples_leaf': 2700.0, 'min_samples_split': 4400.0},\n",
       "  {'max_depth': 2.0, 'min_samples_leaf': 2700.0, 'min_samples_split': 4800.0},\n",
       "  {'max_depth': 2.0, 'min_samples_leaf': 2700.0, 'min_samples_split': 5200.0},\n",
       "  {'max_depth': 2.0, 'min_samples_leaf': 2700.0, 'min_samples_split': 5600.0},\n",
       "  {'max_depth': 2.0, 'min_samples_leaf': 2700.0, 'min_samples_split': 6000.0},\n",
       "  {'max_depth': 2.0, 'min_samples_leaf': 2700.0, 'min_samples_split': 6400.0},\n",
       "  {'max_depth': 2.0, 'min_samples_leaf': 2700.0, 'min_samples_split': 6800.0},\n",
       "  {'max_depth': 2.0, 'min_samples_leaf': 2700.0, 'min_samples_split': 7200.0},\n",
       "  {'max_depth': 2.0, 'min_samples_leaf': 2700.0, 'min_samples_split': 7600.0},\n",
       "  {'max_depth': 2.0, 'min_samples_leaf': 2700.0, 'min_samples_split': 8000.0},\n",
       "  {'max_depth': 2.0, 'min_samples_leaf': 3000.0, 'min_samples_split': 0.0},\n",
       "  {'max_depth': 2.0, 'min_samples_leaf': 3000.0, 'min_samples_split': 400.0},\n",
       "  {'max_depth': 2.0, 'min_samples_leaf': 3000.0, 'min_samples_split': 800.0},\n",
       "  {'max_depth': 2.0, 'min_samples_leaf': 3000.0, 'min_samples_split': 1200.0},\n",
       "  {'max_depth': 2.0, 'min_samples_leaf': 3000.0, 'min_samples_split': 1600.0},\n",
       "  {'max_depth': 2.0, 'min_samples_leaf': 3000.0, 'min_samples_split': 2000.0},\n",
       "  {'max_depth': 2.0, 'min_samples_leaf': 3000.0, 'min_samples_split': 2400.0},\n",
       "  {'max_depth': 2.0, 'min_samples_leaf': 3000.0, 'min_samples_split': 2800.0},\n",
       "  {'max_depth': 2.0, 'min_samples_leaf': 3000.0, 'min_samples_split': 3200.0},\n",
       "  {'max_depth': 2.0, 'min_samples_leaf': 3000.0, 'min_samples_split': 3600.0},\n",
       "  {'max_depth': 2.0, 'min_samples_leaf': 3000.0, 'min_samples_split': 4000.0},\n",
       "  {'max_depth': 2.0, 'min_samples_leaf': 3000.0, 'min_samples_split': 4400.0},\n",
       "  {'max_depth': 2.0, 'min_samples_leaf': 3000.0, 'min_samples_split': 4800.0},\n",
       "  {'max_depth': 2.0, 'min_samples_leaf': 3000.0, 'min_samples_split': 5200.0},\n",
       "  {'max_depth': 2.0, 'min_samples_leaf': 3000.0, 'min_samples_split': 5600.0},\n",
       "  {'max_depth': 2.0, 'min_samples_leaf': 3000.0, 'min_samples_split': 6000.0},\n",
       "  {'max_depth': 2.0, 'min_samples_leaf': 3000.0, 'min_samples_split': 6400.0},\n",
       "  {'max_depth': 2.0, 'min_samples_leaf': 3000.0, 'min_samples_split': 6800.0},\n",
       "  {'max_depth': 2.0, 'min_samples_leaf': 3000.0, 'min_samples_split': 7200.0},\n",
       "  {'max_depth': 2.0, 'min_samples_leaf': 3000.0, 'min_samples_split': 7600.0},\n",
       "  {'max_depth': 2.0, 'min_samples_leaf': 3000.0, 'min_samples_split': 8000.0},\n",
       "  {'max_depth': 2.0, 'min_samples_leaf': 3300.0, 'min_samples_split': 0.0},\n",
       "  {'max_depth': 2.0, 'min_samples_leaf': 3300.0, 'min_samples_split': 400.0},\n",
       "  {'max_depth': 2.0, 'min_samples_leaf': 3300.0, 'min_samples_split': 800.0},\n",
       "  {'max_depth': 2.0, 'min_samples_leaf': 3300.0, 'min_samples_split': 1200.0},\n",
       "  {'max_depth': 2.0, 'min_samples_leaf': 3300.0, 'min_samples_split': 1600.0},\n",
       "  {'max_depth': 2.0, 'min_samples_leaf': 3300.0, 'min_samples_split': 2000.0},\n",
       "  {'max_depth': 2.0, 'min_samples_leaf': 3300.0, 'min_samples_split': 2400.0},\n",
       "  {'max_depth': 2.0, 'min_samples_leaf': 3300.0, 'min_samples_split': 2800.0},\n",
       "  {'max_depth': 2.0, 'min_samples_leaf': 3300.0, 'min_samples_split': 3200.0},\n",
       "  {'max_depth': 2.0, 'min_samples_leaf': 3300.0, 'min_samples_split': 3600.0},\n",
       "  {'max_depth': 2.0, 'min_samples_leaf': 3300.0, 'min_samples_split': 4000.0},\n",
       "  {'max_depth': 2.0, 'min_samples_leaf': 3300.0, 'min_samples_split': 4400.0},\n",
       "  {'max_depth': 2.0, 'min_samples_leaf': 3300.0, 'min_samples_split': 4800.0},\n",
       "  {'max_depth': 2.0, 'min_samples_leaf': 3300.0, 'min_samples_split': 5200.0},\n",
       "  {'max_depth': 2.0, 'min_samples_leaf': 3300.0, 'min_samples_split': 5600.0},\n",
       "  {'max_depth': 2.0, 'min_samples_leaf': 3300.0, 'min_samples_split': 6000.0},\n",
       "  {'max_depth': 2.0, 'min_samples_leaf': 3300.0, 'min_samples_split': 6400.0},\n",
       "  {'max_depth': 2.0, 'min_samples_leaf': 3300.0, 'min_samples_split': 6800.0},\n",
       "  {'max_depth': 2.0, 'min_samples_leaf': 3300.0, 'min_samples_split': 7200.0},\n",
       "  {'max_depth': 2.0, 'min_samples_leaf': 3300.0, 'min_samples_split': 7600.0},\n",
       "  {'max_depth': 2.0, 'min_samples_leaf': 3300.0, 'min_samples_split': 8000.0},\n",
       "  {'max_depth': 2.0, 'min_samples_leaf': 3600.0, 'min_samples_split': 0.0},\n",
       "  {'max_depth': 2.0, 'min_samples_leaf': 3600.0, 'min_samples_split': 400.0},\n",
       "  {'max_depth': 2.0, 'min_samples_leaf': 3600.0, 'min_samples_split': 800.0},\n",
       "  {'max_depth': 2.0, 'min_samples_leaf': 3600.0, 'min_samples_split': 1200.0},\n",
       "  {'max_depth': 2.0, 'min_samples_leaf': 3600.0, 'min_samples_split': 1600.0},\n",
       "  {'max_depth': 2.0, 'min_samples_leaf': 3600.0, 'min_samples_split': 2000.0},\n",
       "  {'max_depth': 2.0, 'min_samples_leaf': 3600.0, 'min_samples_split': 2400.0},\n",
       "  {'max_depth': 2.0, 'min_samples_leaf': 3600.0, 'min_samples_split': 2800.0},\n",
       "  {'max_depth': 2.0, 'min_samples_leaf': 3600.0, 'min_samples_split': 3200.0},\n",
       "  {'max_depth': 2.0, 'min_samples_leaf': 3600.0, 'min_samples_split': 3600.0},\n",
       "  {'max_depth': 2.0, 'min_samples_leaf': 3600.0, 'min_samples_split': 4000.0},\n",
       "  {'max_depth': 2.0, 'min_samples_leaf': 3600.0, 'min_samples_split': 4400.0},\n",
       "  {'max_depth': 2.0, 'min_samples_leaf': 3600.0, 'min_samples_split': 4800.0},\n",
       "  {'max_depth': 2.0, 'min_samples_leaf': 3600.0, 'min_samples_split': 5200.0},\n",
       "  {'max_depth': 2.0, 'min_samples_leaf': 3600.0, 'min_samples_split': 5600.0},\n",
       "  {'max_depth': 2.0, 'min_samples_leaf': 3600.0, 'min_samples_split': 6000.0},\n",
       "  {'max_depth': 2.0, 'min_samples_leaf': 3600.0, 'min_samples_split': 6400.0},\n",
       "  {'max_depth': 2.0, 'min_samples_leaf': 3600.0, 'min_samples_split': 6800.0},\n",
       "  {'max_depth': 2.0, 'min_samples_leaf': 3600.0, 'min_samples_split': 7200.0},\n",
       "  {'max_depth': 2.0, 'min_samples_leaf': 3600.0, 'min_samples_split': 7600.0},\n",
       "  {'max_depth': 2.0, 'min_samples_leaf': 3600.0, 'min_samples_split': 8000.0},\n",
       "  {'max_depth': 2.0, 'min_samples_leaf': 3900.0, 'min_samples_split': 0.0},\n",
       "  {'max_depth': 2.0, 'min_samples_leaf': 3900.0, 'min_samples_split': 400.0},\n",
       "  {'max_depth': 2.0, 'min_samples_leaf': 3900.0, 'min_samples_split': 800.0},\n",
       "  {'max_depth': 2.0, 'min_samples_leaf': 3900.0, 'min_samples_split': 1200.0},\n",
       "  {'max_depth': 2.0, 'min_samples_leaf': 3900.0, 'min_samples_split': 1600.0},\n",
       "  {'max_depth': 2.0, 'min_samples_leaf': 3900.0, 'min_samples_split': 2000.0},\n",
       "  {'max_depth': 2.0, 'min_samples_leaf': 3900.0, 'min_samples_split': 2400.0},\n",
       "  {'max_depth': 2.0, 'min_samples_leaf': 3900.0, 'min_samples_split': 2800.0},\n",
       "  {'max_depth': 2.0, 'min_samples_leaf': 3900.0, 'min_samples_split': 3200.0},\n",
       "  {'max_depth': 2.0, 'min_samples_leaf': 3900.0, 'min_samples_split': 3600.0},\n",
       "  {'max_depth': 2.0, 'min_samples_leaf': 3900.0, 'min_samples_split': 4000.0},\n",
       "  {'max_depth': 2.0, 'min_samples_leaf': 3900.0, 'min_samples_split': 4400.0},\n",
       "  {'max_depth': 2.0, 'min_samples_leaf': 3900.0, 'min_samples_split': 4800.0},\n",
       "  {'max_depth': 2.0, 'min_samples_leaf': 3900.0, 'min_samples_split': 5200.0},\n",
       "  {'max_depth': 2.0, 'min_samples_leaf': 3900.0, 'min_samples_split': 5600.0},\n",
       "  {'max_depth': 2.0, 'min_samples_leaf': 3900.0, 'min_samples_split': 6000.0},\n",
       "  {'max_depth': 2.0, 'min_samples_leaf': 3900.0, 'min_samples_split': 6400.0},\n",
       "  {'max_depth': 2.0, 'min_samples_leaf': 3900.0, 'min_samples_split': 6800.0},\n",
       "  {'max_depth': 2.0, 'min_samples_leaf': 3900.0, 'min_samples_split': 7200.0},\n",
       "  {'max_depth': 2.0, 'min_samples_leaf': 3900.0, 'min_samples_split': 7600.0},\n",
       "  {'max_depth': 2.0, 'min_samples_leaf': 3900.0, 'min_samples_split': 8000.0},\n",
       "  {'max_depth': 2.0, 'min_samples_leaf': 4200.0, 'min_samples_split': 0.0},\n",
       "  {'max_depth': 2.0, 'min_samples_leaf': 4200.0, 'min_samples_split': 400.0},\n",
       "  {'max_depth': 2.0, 'min_samples_leaf': 4200.0, 'min_samples_split': 800.0},\n",
       "  {'max_depth': 2.0, 'min_samples_leaf': 4200.0, 'min_samples_split': 1200.0},\n",
       "  {'max_depth': 2.0, 'min_samples_leaf': 4200.0, 'min_samples_split': 1600.0},\n",
       "  {'max_depth': 2.0, 'min_samples_leaf': 4200.0, 'min_samples_split': 2000.0},\n",
       "  {'max_depth': 2.0, 'min_samples_leaf': 4200.0, 'min_samples_split': 2400.0},\n",
       "  {'max_depth': 2.0, 'min_samples_leaf': 4200.0, 'min_samples_split': 2800.0},\n",
       "  {'max_depth': 2.0, 'min_samples_leaf': 4200.0, 'min_samples_split': 3200.0},\n",
       "  {'max_depth': 2.0, 'min_samples_leaf': 4200.0, 'min_samples_split': 3600.0},\n",
       "  {'max_depth': 2.0, 'min_samples_leaf': 4200.0, 'min_samples_split': 4000.0},\n",
       "  {'max_depth': 2.0, 'min_samples_leaf': 4200.0, 'min_samples_split': 4400.0},\n",
       "  {'max_depth': 2.0, 'min_samples_leaf': 4200.0, 'min_samples_split': 4800.0},\n",
       "  {'max_depth': 2.0, 'min_samples_leaf': 4200.0, 'min_samples_split': 5200.0},\n",
       "  {'max_depth': 2.0, 'min_samples_leaf': 4200.0, 'min_samples_split': 5600.0},\n",
       "  {'max_depth': 2.0, 'min_samples_leaf': 4200.0, 'min_samples_split': 6000.0},\n",
       "  {'max_depth': 2.0, 'min_samples_leaf': 4200.0, 'min_samples_split': 6400.0},\n",
       "  {'max_depth': 2.0, 'min_samples_leaf': 4200.0, 'min_samples_split': 6800.0},\n",
       "  {'max_depth': 2.0, 'min_samples_leaf': 4200.0, 'min_samples_split': 7200.0},\n",
       "  {'max_depth': 2.0, 'min_samples_leaf': 4200.0, 'min_samples_split': 7600.0},\n",
       "  {'max_depth': 2.0, 'min_samples_leaf': 4200.0, 'min_samples_split': 8000.0},\n",
       "  {'max_depth': 2.0, 'min_samples_leaf': 4500.0, 'min_samples_split': 0.0},\n",
       "  {'max_depth': 2.0, 'min_samples_leaf': 4500.0, 'min_samples_split': 400.0},\n",
       "  {'max_depth': 2.0, 'min_samples_leaf': 4500.0, 'min_samples_split': 800.0},\n",
       "  {'max_depth': 2.0, 'min_samples_leaf': 4500.0, 'min_samples_split': 1200.0},\n",
       "  {'max_depth': 2.0, 'min_samples_leaf': 4500.0, 'min_samples_split': 1600.0},\n",
       "  {'max_depth': 2.0, 'min_samples_leaf': 4500.0, 'min_samples_split': 2000.0},\n",
       "  {'max_depth': 2.0, 'min_samples_leaf': 4500.0, 'min_samples_split': 2400.0},\n",
       "  {'max_depth': 2.0, 'min_samples_leaf': 4500.0, 'min_samples_split': 2800.0},\n",
       "  {'max_depth': 2.0, 'min_samples_leaf': 4500.0, 'min_samples_split': 3200.0},\n",
       "  {'max_depth': 2.0, 'min_samples_leaf': 4500.0, 'min_samples_split': 3600.0},\n",
       "  {'max_depth': 2.0, 'min_samples_leaf': 4500.0, 'min_samples_split': 4000.0},\n",
       "  {'max_depth': 2.0, 'min_samples_leaf': 4500.0, 'min_samples_split': 4400.0},\n",
       "  {'max_depth': 2.0, 'min_samples_leaf': 4500.0, 'min_samples_split': 4800.0},\n",
       "  {'max_depth': 2.0, 'min_samples_leaf': 4500.0, 'min_samples_split': 5200.0},\n",
       "  {'max_depth': 2.0, 'min_samples_leaf': 4500.0, 'min_samples_split': 5600.0},\n",
       "  {'max_depth': 2.0, 'min_samples_leaf': 4500.0, 'min_samples_split': 6000.0},\n",
       "  {'max_depth': 2.0, 'min_samples_leaf': 4500.0, 'min_samples_split': 6400.0},\n",
       "  {'max_depth': 2.0, 'min_samples_leaf': 4500.0, 'min_samples_split': 6800.0},\n",
       "  {'max_depth': 2.0, 'min_samples_leaf': 4500.0, 'min_samples_split': 7200.0},\n",
       "  {'max_depth': 2.0, 'min_samples_leaf': 4500.0, 'min_samples_split': 7600.0},\n",
       "  {'max_depth': 2.0, 'min_samples_leaf': 4500.0, 'min_samples_split': 8000.0},\n",
       "  {'max_depth': 2.0, 'min_samples_leaf': 4800.0, 'min_samples_split': 0.0},\n",
       "  {'max_depth': 2.0, 'min_samples_leaf': 4800.0, 'min_samples_split': 400.0},\n",
       "  {'max_depth': 2.0, 'min_samples_leaf': 4800.0, 'min_samples_split': 800.0},\n",
       "  {'max_depth': 2.0, 'min_samples_leaf': 4800.0, 'min_samples_split': 1200.0},\n",
       "  {'max_depth': 2.0, 'min_samples_leaf': 4800.0, 'min_samples_split': 1600.0},\n",
       "  {'max_depth': 2.0, 'min_samples_leaf': 4800.0, 'min_samples_split': 2000.0},\n",
       "  {'max_depth': 2.0, 'min_samples_leaf': 4800.0, 'min_samples_split': 2400.0},\n",
       "  {'max_depth': 2.0, 'min_samples_leaf': 4800.0, 'min_samples_split': 2800.0},\n",
       "  {'max_depth': 2.0, 'min_samples_leaf': 4800.0, 'min_samples_split': 3200.0},\n",
       "  {'max_depth': 2.0, 'min_samples_leaf': 4800.0, 'min_samples_split': 3600.0},\n",
       "  {'max_depth': 2.0, 'min_samples_leaf': 4800.0, 'min_samples_split': 4000.0},\n",
       "  {'max_depth': 2.0, 'min_samples_leaf': 4800.0, 'min_samples_split': 4400.0},\n",
       "  {'max_depth': 2.0, 'min_samples_leaf': 4800.0, 'min_samples_split': 4800.0},\n",
       "  {'max_depth': 2.0, 'min_samples_leaf': 4800.0, 'min_samples_split': 5200.0},\n",
       "  {'max_depth': 2.0, 'min_samples_leaf': 4800.0, 'min_samples_split': 5600.0},\n",
       "  {'max_depth': 2.0, 'min_samples_leaf': 4800.0, 'min_samples_split': 6000.0},\n",
       "  {'max_depth': 2.0, 'min_samples_leaf': 4800.0, 'min_samples_split': 6400.0},\n",
       "  {'max_depth': 2.0, 'min_samples_leaf': 4800.0, 'min_samples_split': 6800.0},\n",
       "  {'max_depth': 2.0, 'min_samples_leaf': 4800.0, 'min_samples_split': 7200.0},\n",
       "  {'max_depth': 2.0, 'min_samples_leaf': 4800.0, 'min_samples_split': 7600.0},\n",
       "  {'max_depth': 2.0, 'min_samples_leaf': 4800.0, 'min_samples_split': 8000.0},\n",
       "  {'max_depth': 2.0, 'min_samples_leaf': 5100.0, 'min_samples_split': 0.0},\n",
       "  {'max_depth': 2.0, 'min_samples_leaf': 5100.0, 'min_samples_split': 400.0},\n",
       "  {'max_depth': 2.0, 'min_samples_leaf': 5100.0, 'min_samples_split': 800.0},\n",
       "  {'max_depth': 2.0, 'min_samples_leaf': 5100.0, 'min_samples_split': 1200.0},\n",
       "  {'max_depth': 2.0, 'min_samples_leaf': 5100.0, 'min_samples_split': 1600.0},\n",
       "  {'max_depth': 2.0, 'min_samples_leaf': 5100.0, 'min_samples_split': 2000.0},\n",
       "  {'max_depth': 2.0, 'min_samples_leaf': 5100.0, 'min_samples_split': 2400.0},\n",
       "  {'max_depth': 2.0, 'min_samples_leaf': 5100.0, 'min_samples_split': 2800.0},\n",
       "  {'max_depth': 2.0, 'min_samples_leaf': 5100.0, 'min_samples_split': 3200.0},\n",
       "  {'max_depth': 2.0, 'min_samples_leaf': 5100.0, 'min_samples_split': 3600.0},\n",
       "  {'max_depth': 2.0, 'min_samples_leaf': 5100.0, 'min_samples_split': 4000.0},\n",
       "  {'max_depth': 2.0, 'min_samples_leaf': 5100.0, 'min_samples_split': 4400.0},\n",
       "  {'max_depth': 2.0, 'min_samples_leaf': 5100.0, 'min_samples_split': 4800.0},\n",
       "  {'max_depth': 2.0, 'min_samples_leaf': 5100.0, 'min_samples_split': 5200.0},\n",
       "  {'max_depth': 2.0, 'min_samples_leaf': 5100.0, 'min_samples_split': 5600.0},\n",
       "  {'max_depth': 2.0, 'min_samples_leaf': 5100.0, 'min_samples_split': 6000.0},\n",
       "  {'max_depth': 2.0, 'min_samples_leaf': 5100.0, 'min_samples_split': 6400.0},\n",
       "  {'max_depth': 2.0, 'min_samples_leaf': 5100.0, 'min_samples_split': 6800.0},\n",
       "  {'max_depth': 2.0, 'min_samples_leaf': 5100.0, 'min_samples_split': 7200.0},\n",
       "  {'max_depth': 2.0, 'min_samples_leaf': 5100.0, 'min_samples_split': 7600.0},\n",
       "  {'max_depth': 2.0, 'min_samples_leaf': 5100.0, 'min_samples_split': 8000.0},\n",
       "  {'max_depth': 2.0, 'min_samples_leaf': 5400.0, 'min_samples_split': 0.0},\n",
       "  {'max_depth': 2.0, 'min_samples_leaf': 5400.0, 'min_samples_split': 400.0},\n",
       "  {'max_depth': 2.0, 'min_samples_leaf': 5400.0, 'min_samples_split': 800.0},\n",
       "  {'max_depth': 2.0, 'min_samples_leaf': 5400.0, 'min_samples_split': 1200.0},\n",
       "  {'max_depth': 2.0, 'min_samples_leaf': 5400.0, 'min_samples_split': 1600.0},\n",
       "  {'max_depth': 2.0, 'min_samples_leaf': 5400.0, 'min_samples_split': 2000.0},\n",
       "  {'max_depth': 2.0, 'min_samples_leaf': 5400.0, 'min_samples_split': 2400.0},\n",
       "  {'max_depth': 2.0, 'min_samples_leaf': 5400.0, 'min_samples_split': 2800.0},\n",
       "  {'max_depth': 2.0, 'min_samples_leaf': 5400.0, 'min_samples_split': 3200.0},\n",
       "  {'max_depth': 2.0, 'min_samples_leaf': 5400.0, 'min_samples_split': 3600.0},\n",
       "  {'max_depth': 2.0, 'min_samples_leaf': 5400.0, 'min_samples_split': 4000.0},\n",
       "  {'max_depth': 2.0, 'min_samples_leaf': 5400.0, 'min_samples_split': 4400.0},\n",
       "  {'max_depth': 2.0, 'min_samples_leaf': 5400.0, 'min_samples_split': 4800.0},\n",
       "  {'max_depth': 2.0, 'min_samples_leaf': 5400.0, 'min_samples_split': 5200.0},\n",
       "  {'max_depth': 2.0, 'min_samples_leaf': 5400.0, 'min_samples_split': 5600.0},\n",
       "  {'max_depth': 2.0, 'min_samples_leaf': 5400.0, 'min_samples_split': 6000.0},\n",
       "  {'max_depth': 2.0, 'min_samples_leaf': 5400.0, 'min_samples_split': 6400.0},\n",
       "  {'max_depth': 2.0, 'min_samples_leaf': 5400.0, 'min_samples_split': 6800.0},\n",
       "  {'max_depth': 2.0, 'min_samples_leaf': 5400.0, 'min_samples_split': 7200.0},\n",
       "  {'max_depth': 2.0, 'min_samples_leaf': 5400.0, 'min_samples_split': 7600.0},\n",
       "  {'max_depth': 2.0, 'min_samples_leaf': 5400.0, 'min_samples_split': 8000.0},\n",
       "  {'max_depth': 2.0, 'min_samples_leaf': 5700.0, 'min_samples_split': 0.0},\n",
       "  {'max_depth': 2.0, 'min_samples_leaf': 5700.0, 'min_samples_split': 400.0},\n",
       "  {'max_depth': 2.0, 'min_samples_leaf': 5700.0, 'min_samples_split': 800.0},\n",
       "  {'max_depth': 2.0, 'min_samples_leaf': 5700.0, 'min_samples_split': 1200.0},\n",
       "  {'max_depth': 2.0, 'min_samples_leaf': 5700.0, 'min_samples_split': 1600.0},\n",
       "  {'max_depth': 2.0, 'min_samples_leaf': 5700.0, 'min_samples_split': 2000.0},\n",
       "  {'max_depth': 2.0, 'min_samples_leaf': 5700.0, 'min_samples_split': 2400.0},\n",
       "  {'max_depth': 2.0, 'min_samples_leaf': 5700.0, 'min_samples_split': 2800.0},\n",
       "  {'max_depth': 2.0, 'min_samples_leaf': 5700.0, 'min_samples_split': 3200.0},\n",
       "  {'max_depth': 2.0, 'min_samples_leaf': 5700.0, 'min_samples_split': 3600.0},\n",
       "  {'max_depth': 2.0, 'min_samples_leaf': 5700.0, 'min_samples_split': 4000.0},\n",
       "  {'max_depth': 2.0, 'min_samples_leaf': 5700.0, 'min_samples_split': 4400.0},\n",
       "  {'max_depth': 2.0, 'min_samples_leaf': 5700.0, 'min_samples_split': 4800.0},\n",
       "  {'max_depth': 2.0, 'min_samples_leaf': 5700.0, 'min_samples_split': 5200.0},\n",
       "  {'max_depth': 2.0, 'min_samples_leaf': 5700.0, 'min_samples_split': 5600.0},\n",
       "  {'max_depth': 2.0, 'min_samples_leaf': 5700.0, 'min_samples_split': 6000.0},\n",
       "  {'max_depth': 2.0, 'min_samples_leaf': 5700.0, 'min_samples_split': 6400.0},\n",
       "  {'max_depth': 2.0, 'min_samples_leaf': 5700.0, 'min_samples_split': 6800.0},\n",
       "  {'max_depth': 2.0, 'min_samples_leaf': 5700.0, 'min_samples_split': 7200.0},\n",
       "  {'max_depth': 2.0, 'min_samples_leaf': 5700.0, 'min_samples_split': 7600.0},\n",
       "  {'max_depth': 2.0, 'min_samples_leaf': 5700.0, 'min_samples_split': 8000.0},\n",
       "  {'max_depth': 2.0, 'min_samples_leaf': 6000.0, 'min_samples_split': 0.0},\n",
       "  {'max_depth': 2.0, 'min_samples_leaf': 6000.0, 'min_samples_split': 400.0},\n",
       "  {'max_depth': 2.0, 'min_samples_leaf': 6000.0, 'min_samples_split': 800.0},\n",
       "  {'max_depth': 2.0, 'min_samples_leaf': 6000.0, 'min_samples_split': 1200.0},\n",
       "  {'max_depth': 2.0, 'min_samples_leaf': 6000.0, 'min_samples_split': 1600.0},\n",
       "  {'max_depth': 2.0, 'min_samples_leaf': 6000.0, 'min_samples_split': 2000.0},\n",
       "  {'max_depth': 2.0, 'min_samples_leaf': 6000.0, 'min_samples_split': 2400.0},\n",
       "  {'max_depth': 2.0, 'min_samples_leaf': 6000.0, 'min_samples_split': 2800.0},\n",
       "  {'max_depth': 2.0, 'min_samples_leaf': 6000.0, 'min_samples_split': 3200.0},\n",
       "  {'max_depth': 2.0, 'min_samples_leaf': 6000.0, 'min_samples_split': 3600.0},\n",
       "  {'max_depth': 2.0, 'min_samples_leaf': 6000.0, 'min_samples_split': 4000.0},\n",
       "  {'max_depth': 2.0, 'min_samples_leaf': 6000.0, 'min_samples_split': 4400.0},\n",
       "  {'max_depth': 2.0, 'min_samples_leaf': 6000.0, 'min_samples_split': 4800.0},\n",
       "  {'max_depth': 2.0, 'min_samples_leaf': 6000.0, 'min_samples_split': 5200.0},\n",
       "  {'max_depth': 2.0, 'min_samples_leaf': 6000.0, 'min_samples_split': 5600.0},\n",
       "  {'max_depth': 2.0, 'min_samples_leaf': 6000.0, 'min_samples_split': 6000.0},\n",
       "  {'max_depth': 2.0, 'min_samples_leaf': 6000.0, 'min_samples_split': 6400.0},\n",
       "  {'max_depth': 2.0, 'min_samples_leaf': 6000.0, 'min_samples_split': 6800.0},\n",
       "  {'max_depth': 2.0, 'min_samples_leaf': 6000.0, 'min_samples_split': 7200.0},\n",
       "  {'max_depth': 2.0, 'min_samples_leaf': 6000.0, 'min_samples_split': 7600.0},\n",
       "  {'max_depth': 2.0, 'min_samples_leaf': 6000.0, 'min_samples_split': 8000.0},\n",
       "  {'max_depth': 3.0, 'min_samples_leaf': 0.0, 'min_samples_split': 0.0},\n",
       "  {'max_depth': 3.0, 'min_samples_leaf': 0.0, 'min_samples_split': 400.0},\n",
       "  {'max_depth': 3.0, 'min_samples_leaf': 0.0, 'min_samples_split': 800.0},\n",
       "  {'max_depth': 3.0, 'min_samples_leaf': 0.0, 'min_samples_split': 1200.0},\n",
       "  {'max_depth': 3.0, 'min_samples_leaf': 0.0, 'min_samples_split': 1600.0},\n",
       "  {'max_depth': 3.0, 'min_samples_leaf': 0.0, 'min_samples_split': 2000.0},\n",
       "  {'max_depth': 3.0, 'min_samples_leaf': 0.0, 'min_samples_split': 2400.0},\n",
       "  {'max_depth': 3.0, 'min_samples_leaf': 0.0, 'min_samples_split': 2800.0},\n",
       "  {'max_depth': 3.0, 'min_samples_leaf': 0.0, 'min_samples_split': 3200.0},\n",
       "  {'max_depth': 3.0, 'min_samples_leaf': 0.0, 'min_samples_split': 3600.0},\n",
       "  {'max_depth': 3.0, 'min_samples_leaf': 0.0, 'min_samples_split': 4000.0},\n",
       "  {'max_depth': 3.0, 'min_samples_leaf': 0.0, 'min_samples_split': 4400.0},\n",
       "  {'max_depth': 3.0, 'min_samples_leaf': 0.0, 'min_samples_split': 4800.0},\n",
       "  {'max_depth': 3.0, 'min_samples_leaf': 0.0, 'min_samples_split': 5200.0},\n",
       "  {'max_depth': 3.0, 'min_samples_leaf': 0.0, 'min_samples_split': 5600.0},\n",
       "  {'max_depth': 3.0, 'min_samples_leaf': 0.0, 'min_samples_split': 6000.0},\n",
       "  {'max_depth': 3.0, 'min_samples_leaf': 0.0, 'min_samples_split': 6400.0},\n",
       "  {'max_depth': 3.0, 'min_samples_leaf': 0.0, 'min_samples_split': 6800.0},\n",
       "  {'max_depth': 3.0, 'min_samples_leaf': 0.0, 'min_samples_split': 7200.0},\n",
       "  {'max_depth': 3.0, 'min_samples_leaf': 0.0, 'min_samples_split': 7600.0},\n",
       "  {'max_depth': 3.0, 'min_samples_leaf': 0.0, 'min_samples_split': 8000.0},\n",
       "  {'max_depth': 3.0, 'min_samples_leaf': 300.0, 'min_samples_split': 0.0},\n",
       "  {'max_depth': 3.0, 'min_samples_leaf': 300.0, 'min_samples_split': 400.0},\n",
       "  {'max_depth': 3.0, 'min_samples_leaf': 300.0, 'min_samples_split': 800.0},\n",
       "  {'max_depth': 3.0, 'min_samples_leaf': 300.0, 'min_samples_split': 1200.0},\n",
       "  {'max_depth': 3.0, 'min_samples_leaf': 300.0, 'min_samples_split': 1600.0},\n",
       "  {'max_depth': 3.0, 'min_samples_leaf': 300.0, 'min_samples_split': 2000.0},\n",
       "  {'max_depth': 3.0, 'min_samples_leaf': 300.0, 'min_samples_split': 2400.0},\n",
       "  {'max_depth': 3.0, 'min_samples_leaf': 300.0, 'min_samples_split': 2800.0},\n",
       "  {'max_depth': 3.0, 'min_samples_leaf': 300.0, 'min_samples_split': 3200.0},\n",
       "  {'max_depth': 3.0, 'min_samples_leaf': 300.0, 'min_samples_split': 3600.0},\n",
       "  {'max_depth': 3.0, 'min_samples_leaf': 300.0, 'min_samples_split': 4000.0},\n",
       "  {'max_depth': 3.0, 'min_samples_leaf': 300.0, 'min_samples_split': 4400.0},\n",
       "  {'max_depth': 3.0, 'min_samples_leaf': 300.0, 'min_samples_split': 4800.0},\n",
       "  {'max_depth': 3.0, 'min_samples_leaf': 300.0, 'min_samples_split': 5200.0},\n",
       "  {'max_depth': 3.0, 'min_samples_leaf': 300.0, 'min_samples_split': 5600.0},\n",
       "  {'max_depth': 3.0, 'min_samples_leaf': 300.0, 'min_samples_split': 6000.0},\n",
       "  {'max_depth': 3.0, 'min_samples_leaf': 300.0, 'min_samples_split': 6400.0},\n",
       "  {'max_depth': 3.0, 'min_samples_leaf': 300.0, 'min_samples_split': 6800.0},\n",
       "  {'max_depth': 3.0, 'min_samples_leaf': 300.0, 'min_samples_split': 7200.0},\n",
       "  {'max_depth': 3.0, 'min_samples_leaf': 300.0, 'min_samples_split': 7600.0},\n",
       "  {'max_depth': 3.0, 'min_samples_leaf': 300.0, 'min_samples_split': 8000.0},\n",
       "  {'max_depth': 3.0, 'min_samples_leaf': 600.0, 'min_samples_split': 0.0},\n",
       "  {'max_depth': 3.0, 'min_samples_leaf': 600.0, 'min_samples_split': 400.0},\n",
       "  {'max_depth': 3.0, 'min_samples_leaf': 600.0, 'min_samples_split': 800.0},\n",
       "  {'max_depth': 3.0, 'min_samples_leaf': 600.0, 'min_samples_split': 1200.0},\n",
       "  {'max_depth': 3.0, 'min_samples_leaf': 600.0, 'min_samples_split': 1600.0},\n",
       "  {'max_depth': 3.0, 'min_samples_leaf': 600.0, 'min_samples_split': 2000.0},\n",
       "  {'max_depth': 3.0, 'min_samples_leaf': 600.0, 'min_samples_split': 2400.0},\n",
       "  {'max_depth': 3.0, 'min_samples_leaf': 600.0, 'min_samples_split': 2800.0},\n",
       "  {'max_depth': 3.0, 'min_samples_leaf': 600.0, 'min_samples_split': 3200.0},\n",
       "  {'max_depth': 3.0, 'min_samples_leaf': 600.0, 'min_samples_split': 3600.0},\n",
       "  {'max_depth': 3.0, 'min_samples_leaf': 600.0, 'min_samples_split': 4000.0},\n",
       "  {'max_depth': 3.0, 'min_samples_leaf': 600.0, 'min_samples_split': 4400.0},\n",
       "  {'max_depth': 3.0, 'min_samples_leaf': 600.0, 'min_samples_split': 4800.0},\n",
       "  {'max_depth': 3.0, 'min_samples_leaf': 600.0, 'min_samples_split': 5200.0},\n",
       "  {'max_depth': 3.0, 'min_samples_leaf': 600.0, 'min_samples_split': 5600.0},\n",
       "  {'max_depth': 3.0, 'min_samples_leaf': 600.0, 'min_samples_split': 6000.0},\n",
       "  {'max_depth': 3.0, 'min_samples_leaf': 600.0, 'min_samples_split': 6400.0},\n",
       "  {'max_depth': 3.0, 'min_samples_leaf': 600.0, 'min_samples_split': 6800.0},\n",
       "  {'max_depth': 3.0, 'min_samples_leaf': 600.0, 'min_samples_split': 7200.0},\n",
       "  {'max_depth': 3.0, 'min_samples_leaf': 600.0, 'min_samples_split': 7600.0},\n",
       "  {'max_depth': 3.0, 'min_samples_leaf': 600.0, 'min_samples_split': 8000.0},\n",
       "  {'max_depth': 3.0, 'min_samples_leaf': 900.0, 'min_samples_split': 0.0},\n",
       "  {'max_depth': 3.0, 'min_samples_leaf': 900.0, 'min_samples_split': 400.0},\n",
       "  {'max_depth': 3.0, 'min_samples_leaf': 900.0, 'min_samples_split': 800.0},\n",
       "  {'max_depth': 3.0, 'min_samples_leaf': 900.0, 'min_samples_split': 1200.0},\n",
       "  {'max_depth': 3.0, 'min_samples_leaf': 900.0, 'min_samples_split': 1600.0},\n",
       "  {'max_depth': 3.0, 'min_samples_leaf': 900.0, 'min_samples_split': 2000.0},\n",
       "  {'max_depth': 3.0, 'min_samples_leaf': 900.0, 'min_samples_split': 2400.0},\n",
       "  {'max_depth': 3.0, 'min_samples_leaf': 900.0, 'min_samples_split': 2800.0},\n",
       "  {'max_depth': 3.0, 'min_samples_leaf': 900.0, 'min_samples_split': 3200.0},\n",
       "  {'max_depth': 3.0, 'min_samples_leaf': 900.0, 'min_samples_split': 3600.0},\n",
       "  {'max_depth': 3.0, 'min_samples_leaf': 900.0, 'min_samples_split': 4000.0},\n",
       "  {'max_depth': 3.0, 'min_samples_leaf': 900.0, 'min_samples_split': 4400.0},\n",
       "  {'max_depth': 3.0, 'min_samples_leaf': 900.0, 'min_samples_split': 4800.0},\n",
       "  {'max_depth': 3.0, 'min_samples_leaf': 900.0, 'min_samples_split': 5200.0},\n",
       "  {'max_depth': 3.0, 'min_samples_leaf': 900.0, 'min_samples_split': 5600.0},\n",
       "  {'max_depth': 3.0, 'min_samples_leaf': 900.0, 'min_samples_split': 6000.0},\n",
       "  {'max_depth': 3.0, 'min_samples_leaf': 900.0, 'min_samples_split': 6400.0},\n",
       "  {'max_depth': 3.0, 'min_samples_leaf': 900.0, 'min_samples_split': 6800.0},\n",
       "  {'max_depth': 3.0, 'min_samples_leaf': 900.0, 'min_samples_split': 7200.0},\n",
       "  {'max_depth': 3.0, 'min_samples_leaf': 900.0, 'min_samples_split': 7600.0},\n",
       "  {'max_depth': 3.0, 'min_samples_leaf': 900.0, 'min_samples_split': 8000.0},\n",
       "  {'max_depth': 3.0, 'min_samples_leaf': 1200.0, 'min_samples_split': 0.0},\n",
       "  {'max_depth': 3.0, 'min_samples_leaf': 1200.0, 'min_samples_split': 400.0},\n",
       "  {'max_depth': 3.0, 'min_samples_leaf': 1200.0, 'min_samples_split': 800.0},\n",
       "  {'max_depth': 3.0, 'min_samples_leaf': 1200.0, 'min_samples_split': 1200.0},\n",
       "  {'max_depth': 3.0, 'min_samples_leaf': 1200.0, 'min_samples_split': 1600.0},\n",
       "  {'max_depth': 3.0, 'min_samples_leaf': 1200.0, 'min_samples_split': 2000.0},\n",
       "  {'max_depth': 3.0, 'min_samples_leaf': 1200.0, 'min_samples_split': 2400.0},\n",
       "  {'max_depth': 3.0, 'min_samples_leaf': 1200.0, 'min_samples_split': 2800.0},\n",
       "  {'max_depth': 3.0, 'min_samples_leaf': 1200.0, 'min_samples_split': 3200.0},\n",
       "  {'max_depth': 3.0, 'min_samples_leaf': 1200.0, 'min_samples_split': 3600.0},\n",
       "  {'max_depth': 3.0, 'min_samples_leaf': 1200.0, 'min_samples_split': 4000.0},\n",
       "  {'max_depth': 3.0, 'min_samples_leaf': 1200.0, 'min_samples_split': 4400.0},\n",
       "  {'max_depth': 3.0, 'min_samples_leaf': 1200.0, 'min_samples_split': 4800.0},\n",
       "  {'max_depth': 3.0, 'min_samples_leaf': 1200.0, 'min_samples_split': 5200.0},\n",
       "  {'max_depth': 3.0, 'min_samples_leaf': 1200.0, 'min_samples_split': 5600.0},\n",
       "  {'max_depth': 3.0, 'min_samples_leaf': 1200.0, 'min_samples_split': 6000.0},\n",
       "  {'max_depth': 3.0, 'min_samples_leaf': 1200.0, 'min_samples_split': 6400.0},\n",
       "  {'max_depth': 3.0, 'min_samples_leaf': 1200.0, 'min_samples_split': 6800.0},\n",
       "  {'max_depth': 3.0, 'min_samples_leaf': 1200.0, 'min_samples_split': 7200.0},\n",
       "  {'max_depth': 3.0, 'min_samples_leaf': 1200.0, 'min_samples_split': 7600.0},\n",
       "  {'max_depth': 3.0, 'min_samples_leaf': 1200.0, 'min_samples_split': 8000.0},\n",
       "  {'max_depth': 3.0, 'min_samples_leaf': 1500.0, 'min_samples_split': 0.0},\n",
       "  {'max_depth': 3.0, 'min_samples_leaf': 1500.0, 'min_samples_split': 400.0},\n",
       "  {'max_depth': 3.0, 'min_samples_leaf': 1500.0, 'min_samples_split': 800.0},\n",
       "  {'max_depth': 3.0, 'min_samples_leaf': 1500.0, 'min_samples_split': 1200.0},\n",
       "  {'max_depth': 3.0, 'min_samples_leaf': 1500.0, 'min_samples_split': 1600.0},\n",
       "  {'max_depth': 3.0, 'min_samples_leaf': 1500.0, 'min_samples_split': 2000.0},\n",
       "  {'max_depth': 3.0, 'min_samples_leaf': 1500.0, 'min_samples_split': 2400.0},\n",
       "  {'max_depth': 3.0, 'min_samples_leaf': 1500.0, 'min_samples_split': 2800.0},\n",
       "  {'max_depth': 3.0, 'min_samples_leaf': 1500.0, 'min_samples_split': 3200.0},\n",
       "  {'max_depth': 3.0, 'min_samples_leaf': 1500.0, 'min_samples_split': 3600.0},\n",
       "  {'max_depth': 3.0, 'min_samples_leaf': 1500.0, 'min_samples_split': 4000.0},\n",
       "  {'max_depth': 3.0, 'min_samples_leaf': 1500.0, 'min_samples_split': 4400.0},\n",
       "  {'max_depth': 3.0, 'min_samples_leaf': 1500.0, 'min_samples_split': 4800.0},\n",
       "  ...],\n",
       " 'split0_test_score': array([0.66291941, 0.66291941, 0.66291941, ..., 1.16373644, 1.16373644,\n",
       "        1.16373644]),\n",
       " 'split1_test_score': array([0.65562751, 0.65562751, 0.65562751, ..., 1.14830934, 1.14830934,\n",
       "        1.14830934]),\n",
       " 'split2_test_score': array([0.65851735, 0.65851735, 0.65851735, ..., 1.12910311, 1.12910311,\n",
       "        1.12910311]),\n",
       " 'split3_test_score': array([0.68931766, 0.68931766, 0.68931766, ..., 1.24213067, 1.24213067,\n",
       "        1.24213067]),\n",
       " 'split4_test_score': array([0.63659761, 0.63659761, 0.63659761, ..., 1.16686852, 1.16686852,\n",
       "        1.16686852]),\n",
       " 'mean_test_score': array([0.66059591, 0.66059591, 0.66059591, ..., 1.17002962, 1.17002962,\n",
       "        1.17002962]),\n",
       " 'std_test_score': array([0.01694262, 0.01694262, 0.01694262, ..., 0.03845753, 0.03845753,\n",
       "        0.03845753]),\n",
       " 'rank_test_score': array([8758, 8758, 8758, ..., 4769, 4769, 4769]),\n",
       " 'split0_train_score': array([0.66239914, 0.66239914, 0.66239914, ..., 1.17015441, 1.17015441,\n",
       "        1.17015441]),\n",
       " 'split1_train_score': array([0.66308714, 0.66308714, 0.66308714, ..., 1.17321271, 1.17321271,\n",
       "        1.17321271]),\n",
       " 'split2_train_score': array([0.66495524, 0.66495524, 0.66495524, ..., 1.18020709, 1.18020709,\n",
       "        1.18020709]),\n",
       " 'split3_train_score': array([0.65743031, 0.65743031, 0.65743031, ..., 1.15339628, 1.15339628,\n",
       "        1.15339628]),\n",
       " 'split4_train_score': array([0.67032825, 0.67032825, 0.67032825, ..., 1.16987655, 1.16987655,\n",
       "        1.16987655]),\n",
       " 'mean_train_score': array([0.66364002, 0.66364002, 0.66364002, ..., 1.16936941, 1.16936941,\n",
       "        1.16936941]),\n",
       " 'std_train_score': array([0.00416817, 0.00416817, 0.00416817, ..., 0.00881181, 0.00881181,\n",
       "        0.00881181])}"
      ]
     },
     "execution_count": 18,
     "metadata": {},
     "output_type": "execute_result"
    }
   ],
   "source": [
    "grid.cv_results_"
   ]
  },
  {
   "cell_type": "code",
   "execution_count": 19,
   "metadata": {},
   "outputs": [
    {
     "data": {
      "text/plain": [
       "(array([{'max_depth': 12.0, 'min_samples_leaf': 0.0, 'min_samples_split': 800.0}],\n",
       "       dtype=object), 3.611399824594673)"
      ]
     },
     "execution_count": 19,
     "metadata": {},
     "output_type": "execute_result"
    }
   ],
   "source": [
    "res = pd.DataFrame(grid.cv_results_)\n",
    "params = res.loc[res.mean_test_score == res.mean_test_score.max()].params.values\n",
    "params, res.mean_test_score.max()"
   ]
  },
  {
   "cell_type": "code",
   "execution_count": 21,
   "metadata": {},
   "outputs": [],
   "source": [
    "res.to_pickle(\"Hyperparameters_BTC.pkl\")"
   ]
  },
  {
   "cell_type": "code",
   "execution_count": null,
   "metadata": {},
   "outputs": [],
   "source": [
    "res = pd.DataFrame(grid.cv_results_)\n",
    "res_no_inf = res.loc[res.mean_test_score != float('inf')]\n",
    "params = res_no_inf.loc[res_no_inf.mean_test_score == res_no_inf.mean_test_score.max()].params.values\n",
    "params, res_no_inf.mean_test_score.max()"
   ]
  },
  {
   "cell_type": "code",
   "execution_count": null,
   "metadata": {},
   "outputs": [],
   "source": []
  },
  {
   "cell_type": "code",
   "execution_count": null,
   "metadata": {},
   "outputs": [],
   "source": [
    "labs.shape, obs.shape"
   ]
  },
  {
   "cell_type": "code",
   "execution_count": null,
   "metadata": {},
   "outputs": [],
   "source": [
    "scorer"
   ]
  },
  {
   "cell_type": "code",
   "execution_count": null,
   "metadata": {},
   "outputs": [],
   "source": [
    "train_df, test_df = get_ML_dataframe(coll, train_test_split=True)"
   ]
  },
  {
   "cell_type": "code",
   "execution_count": null,
   "metadata": {},
   "outputs": [],
   "source": [
    "tree = BinaryTreeClassifier(max_depth=1000, min_samples_split=100, min_samples_leaf=1000)"
   ]
  },
  {
   "cell_type": "code",
   "execution_count": null,
   "metadata": {},
   "outputs": [],
   "source": [
    "import dwrangling as DW"
   ]
  },
  {
   "cell_type": "code",
   "execution_count": null,
   "metadata": {},
   "outputs": [],
   "source": [
    "train_data = DW.dataframes.df_to_ML_input(train_df)\n",
    "test_data = DW.dataframes.df_to_ML_input(test_df)"
   ]
  },
  {
   "cell_type": "code",
   "execution_count": null,
   "metadata": {},
   "outputs": [],
   "source": [
    "tree.fit(*train_data)"
   ]
  },
  {
   "cell_type": "code",
   "execution_count": null,
   "metadata": {},
   "outputs": [],
   "source": [
    "l_pred = tree.predict(*test_data)"
   ]
  },
  {
   "cell_type": "code",
   "execution_count": null,
   "metadata": {},
   "outputs": [],
   "source": [
    "scorer(tree, *test_data)"
   ]
  },
  {
   "cell_type": "code",
   "execution_count": null,
   "metadata": {},
   "outputs": [],
   "source": [
    "score(test_data[-1], l_pred)"
   ]
  },
  {
   "cell_type": "code",
   "execution_count": null,
   "metadata": {},
   "outputs": [],
   "source": []
  },
  {
   "cell_type": "code",
   "execution_count": null,
   "metadata": {},
   "outputs": [],
   "source": [
    "parameters = {'max_depth':         [10, 100, 500, 1000],   #[1, 10, 100, 1000],\n",
    "              'min_samples_split': [50, 100, 200, 300],    #[1, 10, 100, 1000],\n",
    "              'min_samples_leaf':  [1, 10, 100, 1000]}     #[1, 10, 100, 1000]\n",
    "\n",
    "grid1 = GridSearchCV(BinaryTreeClassifier(), param_grid=parameters, cv=5, scoring=scorer, refit=False, n_jobs=-1)"
   ]
  },
  {
   "cell_type": "code",
   "execution_count": null,
   "metadata": {},
   "outputs": [],
   "source": [
    "grid1.fit(obs, labs)"
   ]
  },
  {
   "cell_type": "code",
   "execution_count": null,
   "metadata": {
    "scrolled": true
   },
   "outputs": [],
   "source": [
    "res = pd.DataFrame(grid1.cv_results_)\n",
    "params = res.loc[res.mean_test_score == res.mean_test_score.max()].params.values\n",
    "params, res.mean_test_score.max()"
   ]
  },
  {
   "cell_type": "code",
   "execution_count": null,
   "metadata": {},
   "outputs": [],
   "source": []
  },
  {
   "cell_type": "code",
   "execution_count": null,
   "metadata": {},
   "outputs": [],
   "source": [
    "parameters = {'max_depth':         [5, 8, 10, 15, 20],         # [10, 100, 500, 1000],\n",
    "              'min_samples_split': [250, 275, 300, 325, 350],  # [50, 100, 200, 300],\n",
    "              'min_samples_leaf':  [10, 50, 100, 150, 200]}    # [1, 10, 100, 1000]\n",
    "\n",
    "grid2 = GridSearchCV(BinaryTreeClassifier(), param_grid=parameters, cv=5, scoring=scorer, refit=False, n_jobs=-1)"
   ]
  },
  {
   "cell_type": "code",
   "execution_count": null,
   "metadata": {},
   "outputs": [],
   "source": [
    "grid2.fit(obs, labs)"
   ]
  },
  {
   "cell_type": "code",
   "execution_count": null,
   "metadata": {
    "scrolled": false
   },
   "outputs": [],
   "source": [
    "res = pd.DataFrame(grid2.cv_results_)\n",
    "res_no_inf = res.loc[res.mean_test_score != float('inf')]\n",
    "params = res_no_inf.loc[res_no_inf.mean_test_score == res_no_inf.mean_test_score.max()].params.values\n",
    "params, res_no_inf.mean_test_score.max()"
   ]
  },
  {
   "cell_type": "code",
   "execution_count": null,
   "metadata": {},
   "outputs": [],
   "source": []
  },
  {
   "cell_type": "code",
   "execution_count": null,
   "metadata": {},
   "outputs": [],
   "source": []
  },
  {
   "cell_type": "code",
   "execution_count": null,
   "metadata": {},
   "outputs": [],
   "source": [
    "parameters = {'max_depth':         [3, 5, 10, 15],             # [5, 8, 10, 15, 20],  \n",
    "              'min_samples_split': [200, 250, 275, 300, 325],  # [250, 275, 300, 325, 350],\n",
    "              'min_samples_leaf':  [5, 50, 75, 100, 125, 150]}    # [10, 50, 100, 150, 200]\n",
    "\n",
    "grid3 = GridSearchCV(BinaryTreeClassifier(), param_grid=parameters, cv=5, scoring=scorer, refit=False, n_jobs=-1)"
   ]
  },
  {
   "cell_type": "code",
   "execution_count": null,
   "metadata": {},
   "outputs": [],
   "source": [
    "grid3.fit(obs, labs)"
   ]
  },
  {
   "cell_type": "code",
   "execution_count": null,
   "metadata": {
    "scrolled": false
   },
   "outputs": [],
   "source": [
    "res = pd.DataFrame(grid3.cv_results_)\n",
    "res_no_inf = res.loc[res.mean_test_score != float('inf')]\n",
    "params = res_no_inf.loc[res_no_inf.mean_test_score == res_no_inf.mean_test_score.max()].params.values\n",
    "params, res_no_inf.mean_test_score.max()"
   ]
  },
  {
   "cell_type": "code",
   "execution_count": null,
   "metadata": {},
   "outputs": [],
   "source": []
  },
  {
   "cell_type": "code",
   "execution_count": null,
   "metadata": {},
   "outputs": [],
   "source": []
  },
  {
   "cell_type": "code",
   "execution_count": null,
   "metadata": {},
   "outputs": [],
   "source": [
    "parameters = {'max_depth':         [8, 9, 10, 11, 12],         # [3, 5, 10, 15],  \n",
    "              'min_samples_split': [275, 290, 300, 310, 325],  # [200, 250, 275, 300, 325],\n",
    "              'min_samples_leaf':  [3, 5, 25, 50, 100]}        # [5, 50, 75, 100, 125, 150]\n",
    "\n",
    "grid4 = GridSearchCV(BinaryTreeClassifier(), param_grid=parameters, cv=5, scoring=scorer, refit=False, n_jobs=-1)"
   ]
  },
  {
   "cell_type": "code",
   "execution_count": null,
   "metadata": {},
   "outputs": [],
   "source": [
    "s = time()\n",
    "grid4.fit(obs, labs)\n",
    "f = time()\n",
    "\n",
    "h  = (f-s) // 3600\n",
    "m  = ((f-s) - h*3600) // 60\n",
    "s  = ((f-s) - h*3600 - m*60) // 1\n",
    "ms = ((f-s) - h*3600 - m*60 - s) * 1000\n",
    "print(f\"{h} hr, {m} min, {s} sec, {ms:.2f} ms\")"
   ]
  },
  {
   "cell_type": "code",
   "execution_count": null,
   "metadata": {
    "scrolled": false
   },
   "outputs": [],
   "source": [
    "res = pd.DataFrame(grid4.cv_results_)\n",
    "res_no_inf = res.loc[res.mean_test_score != float('inf')]\n",
    "params = res_no_inf.loc[res_no_inf.mean_test_score == res_no_inf.mean_test_score.max()].params.values\n",
    "params, res_no_inf.mean_test_score.max()"
   ]
  },
  {
   "cell_type": "code",
   "execution_count": null,
   "metadata": {},
   "outputs": [],
   "source": []
  },
  {
   "cell_type": "code",
   "execution_count": null,
   "metadata": {},
   "outputs": [],
   "source": []
  },
  {
   "cell_type": "code",
   "execution_count": null,
   "metadata": {},
   "outputs": [],
   "source": [
    "parameters = {'max_depth':         [5, 6, 7, 8, 9, 10],         # [8, 9, 10, 11, 12] \n",
    "              'min_samples_split': [250, 275, 300, 325, 350],  # [275, 290, 300, 310, 325]\n",
    "              'min_samples_leaf':  [1, 5, 10, 50, 100, 150]}        # [3, 5, 25, 50, 100]\n",
    "\n",
    "grid5 = GridSearchCV(BinaryTreeClassifier(), param_grid=parameters, cv=5, scoring=scorer, refit=False, n_jobs=-1)"
   ]
  },
  {
   "cell_type": "code",
   "execution_count": null,
   "metadata": {},
   "outputs": [],
   "source": [
    "s = time()\n",
    "grid5.fit(obs, labs)\n",
    "f = time()\n",
    "\n",
    "h  = (f-s) // 3600\n",
    "m  = ((f-s) - h*3600) // 60\n",
    "s  = ((f-s) - h*3600 - m*60) // 1\n",
    "ms = ((f-s) - h*3600 - m*60 - s) * 1000\n",
    "print(f\"{h} hr, {m} min, {s} sec, {ms:.2f} ms\")"
   ]
  },
  {
   "cell_type": "code",
   "execution_count": null,
   "metadata": {
    "scrolled": false
   },
   "outputs": [],
   "source": [
    "res = pd.DataFrame(grid5.cv_results_)\n",
    "res_no_inf = res.loc[res.mean_test_score != float('inf')]\n",
    "params = res_no_inf.loc[res_no_inf.mean_test_score == res_no_inf.mean_test_score.max()].params.values\n",
    "params, res_no_inf.mean_test_score.max()"
   ]
  },
  {
   "cell_type": "code",
   "execution_count": null,
   "metadata": {},
   "outputs": [],
   "source": []
  },
  {
   "cell_type": "code",
   "execution_count": null,
   "metadata": {},
   "outputs": [],
   "source": []
  },
  {
   "cell_type": "code",
   "execution_count": null,
   "metadata": {},
   "outputs": [],
   "source": [
    "parameters = {'max_depth':         [10,],         # [8, 9, 10, 11, 12] \n",
    "              'min_samples_split': list(range(200,301)),  # [275, 290, 300, 310, 325]\n",
    "              'min_samples_leaf':  [50,]}        # [3, 5, 25, 50, 100]\n",
    "\n",
    "grid6 = GridSearchCV(BinaryTreeClassifier(), param_grid=parameters, cv=5, scoring=scorer, refit=False, n_jobs=-1)"
   ]
  },
  {
   "cell_type": "code",
   "execution_count": null,
   "metadata": {},
   "outputs": [],
   "source": [
    "s = time()\n",
    "grid6.fit(obs, labs)\n",
    "f = time()\n",
    "\n",
    "h  = (f-s) // 3600\n",
    "m  = ((f-s) - h*3600) // 60\n",
    "s  = ((f-s) - h*3600 - m*60) // 1\n",
    "ms = ((f-s) - h*3600 - m*60 - s) * 1000\n",
    "print(f\"{h} hr, {m} min, {s} sec, {ms:.2f} ms\")"
   ]
  },
  {
   "cell_type": "code",
   "execution_count": null,
   "metadata": {
    "scrolled": false
   },
   "outputs": [],
   "source": [
    "res = pd.DataFrame(grid6.cv_results_)\n",
    "res_no_inf = res.loc[res.mean_test_score != float('inf')]\n",
    "params = res_no_inf.loc[res_no_inf.mean_test_score == res_no_inf.mean_test_score.max()].params.values\n",
    "params, res_no_inf.mean_test_score.max()"
   ]
  },
  {
   "cell_type": "code",
   "execution_count": null,
   "metadata": {},
   "outputs": [],
   "source": [
    "from time import time"
   ]
  },
  {
   "cell_type": "code",
   "execution_count": null,
   "metadata": {
    "scrolled": true
   },
   "outputs": [],
   "source": [
    "parameters"
   ]
  },
  {
   "cell_type": "code",
   "execution_count": null,
   "metadata": {},
   "outputs": [],
   "source": [
    "parameters = {'max_depth':         list(np.linspace(1,20,20)),         # [8, 9, 10, 11, 12] \n",
    "              'min_samples_split': list(np.linspace(100,400,26)),  # [275, 290, 300, 310, 325]\n",
    "              'min_samples_leaf':  list(np.linspace(0,400,21))}        # [3, 5, 25, 50, 100]\n",
    "\n",
    "grid_plot = GridSearchCV(BinaryTreeClassifier(), param_grid=parameters, cv=5, scoring=scorer, refit=False, n_jobs=-1)"
   ]
  },
  {
   "cell_type": "code",
   "execution_count": null,
   "metadata": {},
   "outputs": [],
   "source": [
    "s = time()\n",
    "grid_plot.fit(obs, labs)\n",
    "f = time()\n",
    "\n",
    "h  = (f-s) // 3600\n",
    "m  = ((f-s) - h*3600) // 60\n",
    "s  = ((f-s) - h*3600 - m*60) // 1\n",
    "ms = ((f-s) - h*3600 - m*60 - s) * 1000\n",
    "print(f\"{h} hr, {m} min, {s} sec, {ms:.2f} ms\")"
   ]
  },
  {
   "cell_type": "code",
   "execution_count": null,
   "metadata": {},
   "outputs": [],
   "source": [
    "with open('Data/BinaryTree_Hyperparameter_Grid.pkl', 'wb') as f:   # Pickle file is newly created where foo1.py is\n",
    "    pkl.dump(grid_plot, f, -1)          # dump data to f"
   ]
  },
  {
   "cell_type": "code",
   "execution_count": null,
   "metadata": {},
   "outputs": [],
   "source": [
    "res = pd.DataFrame(grid_plot.cv_results_)\n",
    "res_no_inf = res.loc[res.mean_test_score != float('inf')]\n",
    "params = res_no_inf.loc[res_no_inf.mean_test_score == res_no_inf.mean_test_score.max()].params.values\n",
    "params, res_no_inf.mean_test_score.max()"
   ]
  },
  {
   "cell_type": "code",
   "execution_count": null,
   "metadata": {
    "scrolled": true
   },
   "outputs": [],
   "source": [
    "res = pd.DataFrame(grid_plot.cv_results_)\n",
    "res_no_inf = res.loc[res.mean_test_score != float('inf')]\n",
    "params = res_no_inf.loc[res_no_inf.mean_test_score == res_no_inf.mean_test_score.max()].params.values\n",
    "params, res_no_inf.mean_test_score.max()"
   ]
  },
  {
   "cell_type": "code",
   "execution_count": null,
   "metadata": {},
   "outputs": [],
   "source": []
  },
  {
   "cell_type": "markdown",
   "metadata": {},
   "source": [
    "### FIGURES BELOW"
   ]
  },
  {
   "cell_type": "code",
   "execution_count": null,
   "metadata": {},
   "outputs": [],
   "source": [
    "import pickle as pkl"
   ]
  },
  {
   "cell_type": "code",
   "execution_count": null,
   "metadata": {},
   "outputs": [],
   "source": [
    "import seaborn as sns"
   ]
  },
  {
   "cell_type": "code",
   "execution_count": null,
   "metadata": {},
   "outputs": [],
   "source": [
    "with open('Data/BinaryTree_Hyperparameter_Grid.pkl', 'rb') as f:   # Pickle file is newly created where foo1.py is\n",
    "    my_grid = pkl.load(f)"
   ]
  },
  {
   "cell_type": "code",
   "execution_count": null,
   "metadata": {},
   "outputs": [],
   "source": [
    "my_grid"
   ]
  },
  {
   "cell_type": "code",
   "execution_count": null,
   "metadata": {},
   "outputs": [],
   "source": [
    "res = pd.DataFrame(my_grid.cv_results_)\n",
    "res_no_inf = res.loc[res.mean_test_score != float('inf')]\n",
    "params = res_no_inf.loc[res_no_inf.mean_test_score == res_no_inf.mean_test_score.max()].params.values\n",
    "params, res_no_inf.mean_test_score.max()\n",
    "res"
   ]
  },
  {
   "cell_type": "code",
   "execution_count": null,
   "metadata": {},
   "outputs": [],
   "source": [
    "param_grid = pd.DataFrame([{**params, 'Signal_to_Noise_ratio': SN}\n",
    "                          for params, SN in res[['params', 'mean_test_score']].values])\n",
    "param_grid"
   ]
  },
  {
   "cell_type": "code",
   "execution_count": null,
   "metadata": {},
   "outputs": [],
   "source": [
    "n_params = (param_grid.shape[1] - 1)"
   ]
  },
  {
   "cell_type": "code",
   "execution_count": null,
   "metadata": {},
   "outputs": [],
   "source": [
    "import matplotlib.pyplot as plt"
   ]
  },
  {
   "cell_type": "code",
   "execution_count": null,
   "metadata": {},
   "outputs": [],
   "source": [
    "fig, axes = plt.subplots(n_params-1, n_params-1)\n",
    "params = {'max_depth':7, 'min_samples_split':250, 'min_samples_leaf':30}\n",
    "cs, xs, ys, zs = param_grid.values.T\n",
    "\n",
    "for yi, y_param in enumerate(params[1:]):\n",
    "    for xi, x_param in enumerate(params[:-1]):\n",
    "        \n",
    "        if yi < xi:\n",
    "            axes[yi, xi].remove()\n",
    "            continue\n",
    "        \n",
    "        print('ADD')\n",
    "        mask = np.all([param_grid['max_depth']==1.0,\n",
    "               param_grid['min_samples_split']==200.0,\n",
    "               param_grid['min_samples_leaf']==30.0],\n",
    "              axis=0)\n",
    "        param_grid[mask].values\n",
    "\n",
    "        print(yi, xi, y_param, '->', x_param, axes[yi, xi])\n",
    "\n",
    "        print(param_grid[[y_param, x_param, 'Signal_to_Noise_ratio']].values)"
   ]
  },
  {
   "cell_type": "code",
   "execution_count": null,
   "metadata": {},
   "outputs": [],
   "source": [
    "df = param_grid[['max_depth', 'min_samples_split', 'Signal_to_Noise_ratio']]\n",
    "x_set, y_set = set(df['max_depth']), set(df['min_samples_split'])\n",
    "size = (len(x_set), len(y_set))"
   ]
  },
  {
   "cell_type": "code",
   "execution_count": null,
   "metadata": {},
   "outputs": [],
   "source": [
    "x_set, y_set, size"
   ]
  },
  {
   "cell_type": "code",
   "execution_count": null,
   "metadata": {},
   "outputs": [],
   "source": [
    "df.values[df.values[:,:1] == [1.0, 200.0]]"
   ]
  },
  {
   "cell_type": "code",
   "execution_count": null,
   "metadata": {},
   "outputs": [],
   "source": [
    "df[np.all([df.values[:,0] == 1.0, df.values[:,1] == 200.0, df.values[:,2] == ], axis=0)]"
   ]
  },
  {
   "cell_type": "code",
   "execution_count": null,
   "metadata": {},
   "outputs": [],
   "source": [
    "param_grid.from_dict({'max_depth':1.0, 'min_samples_split':200.0, 'min_samples_leaf':30.0})"
   ]
  },
  {
   "cell_type": "code",
   "execution_count": null,
   "metadata": {},
   "outputs": [],
   "source": [
    "mask = np.all([param_grid['max_depth']==1.0,\n",
    "               param_grid['min_samples_split']==200.0,\n",
    "               param_grid['min_samples_leaf']==30.0],\n",
    "              axis=0)\n",
    "param_grid[mask].values"
   ]
  },
  {
   "cell_type": "code",
   "execution_count": null,
   "metadata": {},
   "outputs": [],
   "source": [
    "c, x, y, z = param_grid.values.T"
   ]
  },
  {
   "cell_type": "code",
   "execution_count": null,
   "metadata": {},
   "outputs": [],
   "source": [
    "import matplotlib.pyplot as plt\n",
    "from mpl_toolkits.mplot3d import Axes3D\n",
    "from matplotlib import colors"
   ]
  },
  {
   "cell_type": "code",
   "execution_count": null,
   "metadata": {},
   "outputs": [],
   "source": [
    "norm = colors.LogNorm(vmin=c.min(), vmax=c.max())"
   ]
  },
  {
   "cell_type": "code",
   "execution_count": null,
   "metadata": {},
   "outputs": [],
   "source": [
    "c_ordered = sorted(list(set(c)))"
   ]
  },
  {
   "cell_type": "code",
   "execution_count": null,
   "metadata": {},
   "outputs": [],
   "source": [
    "c_ordered"
   ]
  },
  {
   "cell_type": "code",
   "execution_count": null,
   "metadata": {
    "scrolled": false
   },
   "outputs": [],
   "source": [
    "%matplotlib qt\n",
    "\n",
    "# cmap = sns.color_palette(\"Blues\", as_cmap=True)\n",
    "# cmap = sns.cubehelix_palette(100, light=1.0, dark=0.1, rot=4, as_cmap=True)\n",
    "# cmap = plt.get_cmap('jet')\n",
    "\n",
    "\n",
    "    \n",
    "fig = plt.figure(figsize=(14, 11))\n",
    "ax = fig.add_subplot(111, projection='3d')\n",
    "cmap = plt.get_cmap(\"jet\")\n",
    "cax = ax.scatter(x, y, z, s=115, c=c, cmap=cmap, marker='s', alpha=0.45)\n",
    "\n",
    "cbar = plt.colorbar(cax, ax=ax) \n",
    "ax.grid(False)\n",
    "ax.xaxis.pane.fill = False\n",
    "ax.yaxis.pane.fill = False\n",
    "ax.zaxis.pane.fill = False\n",
    "ax.view_init(elev=10, azim=-30)\n",
    "\n",
    "labels = {axis:label.replace('_',' ')\n",
    "          for axis, label in\n",
    "          zip(['c','x','y','z'], param_grid.columns)}\n",
    "\n",
    "ax.set_xlabel(labels['x'])\n",
    "ax.set_ylabel(labels['y'])\n",
    "ax.set_zlabel(labels['z'])\n",
    "cbar.set_label(labels['c'], rotation=270)\n",
    "\n",
    "\n",
    "fig.tight_layout()\n",
    "plt.show()"
   ]
  },
  {
   "cell_type": "code",
   "execution_count": null,
   "metadata": {},
   "outputs": [],
   "source": [
    "{axis:label.replace('_',' ') for axis, label in zip(['c','x','y','z'], param_grid.columns)}"
   ]
  },
  {
   "cell_type": "code",
   "execution_count": null,
   "metadata": {},
   "outputs": [],
   "source": [
    "fig.show()"
   ]
  },
  {
   "cell_type": "code",
   "execution_count": null,
   "metadata": {},
   "outputs": [],
   "source": [
    "srtd_res = pd.DataFrame(sorted(param_grid.loc[param_grid.values[:,0]< np.inf].values, key=lambda row: row[0]), columns=param_grid.columns)"
   ]
  },
  {
   "cell_type": "code",
   "execution_count": null,
   "metadata": {},
   "outputs": [],
   "source": [
    "maxes = sorted(list(set(srtd_res.values[:, 0])))[::-1]"
   ]
  },
  {
   "cell_type": "code",
   "execution_count": null,
   "metadata": {
    "scrolled": false
   },
   "outputs": [],
   "source": [
    "srtd_res.loc[srtd_res.values[:,0] == maxes[1]].describe()"
   ]
  },
  {
   "cell_type": "code",
   "execution_count": null,
   "metadata": {},
   "outputs": [],
   "source": [
    "pd.set_option('display.max_rows', 183)"
   ]
  },
  {
   "cell_type": "code",
   "execution_count": null,
   "metadata": {},
   "outputs": [],
   "source": []
  },
  {
   "cell_type": "code",
   "execution_count": null,
   "metadata": {},
   "outputs": [],
   "source": []
  },
  {
   "cell_type": "code",
   "execution_count": null,
   "metadata": {},
   "outputs": [],
   "source": [
    "from time import time"
   ]
  },
  {
   "cell_type": "code",
   "execution_count": null,
   "metadata": {},
   "outputs": [],
   "source": [
    "parameters = {'max_depth':         [6.0,],\n",
    "              'min_samples_split': [100.0,],\n",
    "              'min_samples_leaf':  [20.0,]}\n",
    "\n",
    "best_search = GridSearchCV(BinaryTreeClassifier(), param_grid=parameters, cv=10, scoring=scorer, refit=False, n_jobs=-1)"
   ]
  },
  {
   "cell_type": "code",
   "execution_count": null,
   "metadata": {},
   "outputs": [],
   "source": [
    "s = time()\n",
    "best_search.fit(obs, labs)\n",
    "f = time()\n",
    "\n",
    "h  = (f-s) // 3600\n",
    "m  = ((f-s) - h*3600) // 60\n",
    "s  = ((f-s) - h*3600 - m*60) // 1\n",
    "ms = ((f-s) - h*3600 - m*60 - s) * 1000\n",
    "print(f\"{h} hr, {m} min, {s} sec, {ms:.2f} ms\")"
   ]
  },
  {
   "cell_type": "code",
   "execution_count": null,
   "metadata": {},
   "outputs": [],
   "source": [
    "res = pd.DataFrame(best_search.cv_results_)\n",
    "res_no_inf = res.loc[res.mean_test_score != float('inf')]\n",
    "params = res_no_inf.loc[res_no_inf.mean_test_score == res_no_inf.mean_test_score.max()].params.values\n",
    "params, res_no_inf.mean_test_score.max()"
   ]
  },
  {
   "cell_type": "code",
   "execution_count": null,
   "metadata": {},
   "outputs": [],
   "source": [
    "parameters = {'max_depth':         [12.0,],\n",
    "              'min_samples_split': [269.0,],\n",
    "              'min_samples_leaf':  [20.0,]}\n",
    "guess_search = GridSearchCV(BinaryTreeClassifier(), param_grid=parameters, cv=10, scoring=scorer, refit=False, n_jobs=-1)"
   ]
  },
  {
   "cell_type": "code",
   "execution_count": null,
   "metadata": {},
   "outputs": [],
   "source": [
    "s = time()\n",
    "guess_search.fit(obs, labs)\n",
    "f = time()\n",
    "\n",
    "h  = (f-s) // 3600\n",
    "m  = ((f-s) - h*3600) // 60\n",
    "s  = ((f-s) - h*3600 - m*60) // 1\n",
    "ms = ((f-s) - h*3600 - m*60 - s) * 1000\n",
    "print(f\"{h} hr, {m} min, {s} sec, {ms:.2f} ms\")"
   ]
  },
  {
   "cell_type": "code",
   "execution_count": null,
   "metadata": {},
   "outputs": [],
   "source": [
    "res = pd.DataFrame(guess_search.cv_results_)\n",
    "res_no_inf = res.loc[res.mean_test_score != float('inf')]\n",
    "params = res_no_inf.loc[res_no_inf.mean_test_score == res_no_inf.mean_test_score.max()].params.values\n",
    "params, res_no_inf.mean_test_score.max()"
   ]
  },
  {
   "cell_type": "code",
   "execution_count": null,
   "metadata": {},
   "outputs": [],
   "source": [
    "from analysis import find_p_cut, S_B_ratio, split_data"
   ]
  },
  {
   "cell_type": "code",
   "execution_count": null,
   "metadata": {},
   "outputs": [],
   "source": [
    "splt_data = split_data(data)"
   ]
  },
  {
   "cell_type": "code",
   "execution_count": null,
   "metadata": {},
   "outputs": [],
   "source": [
    "best_tree = BinaryTreeClassifier(max_depth = 6.0, min_samples_split = 100.0, min_samples_leaf = 20.0)\n",
    "guess_tree = BinaryTreeClassifier(max_depth = 12.0, min_samples_split = 269.0, min_samples_leaf = 20.0)"
   ]
  },
  {
   "cell_type": "code",
   "execution_count": null,
   "metadata": {},
   "outputs": [],
   "source": [
    "best_tree.fit(*df_to_ML_input(splt_data['train']))\n",
    "guess_tree.fit(*df_to_ML_input(splt_data['train']))"
   ]
  },
  {
   "cell_type": "code",
   "execution_count": null,
   "metadata": {},
   "outputs": [],
   "source": [
    "labels = df_to_ML_input(splt_data['test'])[1]"
   ]
  },
  {
   "cell_type": "code",
   "execution_count": null,
   "metadata": {},
   "outputs": [],
   "source": [
    "best_res = best_tree.predict(*df_to_ML_input(splt_data['test']))\n",
    "guess_res = guess_tree.predict(*df_to_ML_input(splt_data['test']))"
   ]
  },
  {
   "cell_type": "code",
   "execution_count": null,
   "metadata": {},
   "outputs": [],
   "source": [
    "obs = ['obs' for _ in labels]\n",
    "best_res = list(zip(obs, labels, best_res))\n",
    "guess_res = list(zip(obs, labels, guess_res))"
   ]
  },
  {
   "cell_type": "code",
   "execution_count": null,
   "metadata": {},
   "outputs": [],
   "source": [
    "best_p = find_p_cut(best_res)\n",
    "guess_p = find_p_cut(guess_res)"
   ]
  },
  {
   "cell_type": "code",
   "execution_count": null,
   "metadata": {},
   "outputs": [],
   "source": [
    "best_SN = S_B_ratio(best_p, best_res)\n",
    "guess_SN = S_B_ratio(guess_p, guess_res)"
   ]
  },
  {
   "cell_type": "code",
   "execution_count": null,
   "metadata": {},
   "outputs": [],
   "source": [
    "best_SN, guess_SN"
   ]
  },
  {
   "cell_type": "code",
   "execution_count": null,
   "metadata": {},
   "outputs": [],
   "source": []
  }
 ],
 "metadata": {
  "kernelspec": {
   "display_name": "Python 3",
   "language": "python",
   "name": "python3"
  },
  "language_info": {
   "codemirror_mode": {
    "name": "ipython",
    "version": 3
   },
   "file_extension": ".py",
   "mimetype": "text/x-python",
   "name": "python",
   "nbconvert_exporter": "python",
   "pygments_lexer": "ipython3",
   "version": "3.7.2"
  }
 },
 "nbformat": 4,
 "nbformat_minor": 2
}
