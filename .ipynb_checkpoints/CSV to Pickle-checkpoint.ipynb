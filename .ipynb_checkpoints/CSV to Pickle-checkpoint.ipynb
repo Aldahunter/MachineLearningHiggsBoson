{
 "cells": [
  {
   "cell_type": "code",
   "execution_count": 1,
   "metadata": {},
   "outputs": [],
   "source": [
    "import os\n",
    "import csv\n",
    "from ast import literal_eval\n",
    "import pickle"
   ]
  },
  {
   "cell_type": "code",
   "execution_count": 2,
   "metadata": {},
   "outputs": [],
   "source": [
    "FILEs = [file_[:-4]                       # file name, excluding 'csv'\n",
    "         for file_ in os.listdir(\"Data\")  # from files in 'Data/' folder\n",
    "         if file_.endswith(\".csv\")]       # if the file is an 'csv' file"
   ]
  },
  {
   "cell_type": "code",
   "execution_count": 3,
   "metadata": {},
   "outputs": [
    {
     "name": "stdout",
     "output_type": "stream",
     "text": [
      "Successfully ported 'pp_2mu2e_bkg' (1 out of 4)\n",
      "Successfully ported 'pp_2mu2nu_bkg' (2 out of 4)\n",
      "Successfully ported 'pp_h_2mu2e_heft' (3 out of 4)\n",
      "Successfully ported 'pp_h_2munu_heft' (4 out of 4)\n"
     ]
    }
   ],
   "source": [
    "for n, FILE in enumerate(FILEs):\n",
    "    # For each csv file\n",
    "\n",
    "    csv_loc = os.path.join(os.getcwd(),\"Data\",FILE+\".csv\")                   # Obtain location of csv\n",
    "    with open(csv_loc, \"r\") as csvFILE:                                      # Open csv file to read\n",
    "        reader = csv.DictReader(csvFILE)                                     # read csv file with DictReader\n",
    "        events = [{key : literal_eval(item) for key, item in event.items()}  # create dict with key and object\n",
    "                  for event in reader]                                       # for each item in reader\n",
    "\n",
    "    pkl_loc = os.path.join(os.getcwd(),\"Data\",FILE+\".pkl\")  # Obtain location of pickle\n",
    "    with open(pkl_loc, \"wb\") as pklFILE:                    # Open pickle file to write in binary\n",
    "        pickle.dump(events, pklFILE)                        # write event to pickle file\n",
    "\n",
    "    print(\"Successfully ported '{0}' ({1} out of {2})\".format(FILE, n + 1, len(FILEs)))"
   ]
  }
 ],
 "metadata": {
  "kernelspec": {
   "display_name": "Python 3",
   "language": "python",
   "name": "python3"
  },
  "language_info": {
   "codemirror_mode": {
    "name": "ipython",
    "version": 3
   },
   "file_extension": ".py",
   "mimetype": "text/x-python",
   "name": "python",
   "nbconvert_exporter": "python",
   "pygments_lexer": "ipython3",
   "version": "3.6.4"
  }
 },
 "nbformat": 4,
 "nbformat_minor": 2
}
